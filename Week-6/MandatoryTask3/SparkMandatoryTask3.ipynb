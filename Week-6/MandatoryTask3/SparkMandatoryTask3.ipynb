{
 "cells": [
  {
   "cell_type": "code",
   "execution_count": 1,
   "id": "7a3f0eea-3c4e-4922-80c4-033bb679ed60",
   "metadata": {
    "execution": {
     "iopub.execute_input": "2024-06-25T05:40:42.533566Z",
     "iopub.status.busy": "2024-06-25T05:40:42.533239Z",
     "iopub.status.idle": "2024-06-25T05:41:15.329167Z",
     "shell.execute_reply": "2024-06-25T05:41:15.328484Z",
     "shell.execute_reply.started": "2024-06-25T05:40:42.533523Z"
    },
    "tags": []
   },
   "outputs": [
    {
     "data": {
      "application/vnd.jupyter.widget-view+json": {
       "model_id": "c479bd84ec914b46967ddc5e0879de7c",
       "version_major": 2,
       "version_minor": 0
      },
      "text/plain": [
       "VBox()"
      ]
     },
     "metadata": {},
     "output_type": "display_data"
    },
    {
     "name": "stdout",
     "output_type": "stream",
     "text": [
      "Starting Spark application\n"
     ]
    },
    {
     "data": {
      "text/html": [
       "<table>\n<tbody><tr><th>ID</th><th>YARN Application ID</th><th>Kind</th><th>State</th><th>Spark UI</th><th>Driver log</th><th>User</th><th>Current session?</th></tr><tr><td>6</td><td>application_1719286938901_0007</td><td>spark</td><td>idle</td><td><a target=\"_blank\" href=\"http://ip-172-31-36-39.ap-south-1.compute.internal:20888/proxy/application_1719286938901_0007/\" class=\"emr-proxy-link j-35MEZCYK4KZU5 application_1719286938901_0007\" emr-resource=\"j-35MEZCYK4KZU5\n\" application-id=\"application_1719286938901_0007\">Link</a></td><td><a target=\"_blank\" href=\"http://ip-172-31-40-157.ap-south-1.compute.internal:8042/node/containerlogs/container_1719286938901_0007_01_000001/livy\">Link</a></td><td>None</td><td>✔</td></tr></tbody></table>"
      ],
      "text/plain": [
       "<IPython.core.display.HTML object>"
      ]
     },
     "metadata": {},
     "output_type": "display_data"
    },
    {
     "data": {
      "application/vnd.jupyter.widget-view+json": {
       "model_id": "",
       "version_major": 2,
       "version_minor": 0
      },
      "text/plain": [
       "FloatProgress(value=0.0, bar_style='info', description='Progress:', layout=Layout(height='25px', width='50%'),…"
      ]
     },
     "metadata": {},
     "output_type": "display_data"
    },
    {
     "name": "stdout",
     "output_type": "stream",
     "text": [
      "SparkSession available as 'spark'.\n"
     ]
    },
    {
     "data": {
      "application/vnd.jupyter.widget-view+json": {
       "model_id": "",
       "version_major": 2,
       "version_minor": 0
      },
      "text/plain": [
       "FloatProgress(value=0.0, bar_style='info', description='Progress:', layout=Layout(height='25px', width='50%'),…"
      ]
     },
     "metadata": {},
     "output_type": "display_data"
    },
    {
     "name": "stdout",
     "output_type": "stream",
     "text": [
      "res1: org.apache.spark.sql.SparkSession = org.apache.spark.sql.SparkSession@70a8dbac\n"
     ]
    }
   ],
   "source": [
    "spark"
   ]
  },
  {
   "cell_type": "code",
   "execution_count": 2,
   "id": "a3527280-d5d9-4e67-910b-e4a216498a01",
   "metadata": {
    "execution": {
     "iopub.execute_input": "2024-06-25T05:42:37.779201Z",
     "iopub.status.busy": "2024-06-25T05:42:37.778979Z",
     "iopub.status.idle": "2024-06-25T05:43:21.166611Z",
     "shell.execute_reply": "2024-06-25T05:43:21.165974Z",
     "shell.execute_reply.started": "2024-06-25T05:42:37.779175Z"
    },
    "tags": []
   },
   "outputs": [
    {
     "data": {
      "application/vnd.jupyter.widget-view+json": {
       "model_id": "14f406ef7a5e4907a65a1dbbb4282946",
       "version_major": 2,
       "version_minor": 0
      },
      "text/plain": [
       "VBox()"
      ]
     },
     "metadata": {},
     "output_type": "display_data"
    },
    {
     "data": {
      "application/vnd.jupyter.widget-view+json": {
       "model_id": "",
       "version_major": 2,
       "version_minor": 0
      },
      "text/plain": [
       "FloatProgress(value=0.0, bar_style='info', description='Progress:', layout=Layout(height='25px', width='50%'),…"
      ]
     },
     "metadata": {},
     "output_type": "display_data"
    },
    {
     "name": "stdout",
     "output_type": "stream",
     "text": [
      "df_csv: org.apache.spark.sql.DataFrame = [From Date: string, To Date: string ... 23 more fields]\n"
     ]
    }
   ],
   "source": [
    "val df_csv = spark.read.option(\"header\", \"true\").option(\"inferSchema\", \"true\").csv(\"s3://spark-final-assignment/MandatoryTask3/input-data/*.csv\")"
   ]
  },
  {
   "cell_type": "code",
   "execution_count": 3,
   "id": "e2f6c424-e519-4614-9e6a-cf455fd89bd3",
   "metadata": {
    "execution": {
     "iopub.execute_input": "2024-06-25T06:02:21.954140Z",
     "iopub.status.busy": "2024-06-25T06:02:21.953918Z",
     "iopub.status.idle": "2024-06-25T06:02:31.230568Z",
     "shell.execute_reply": "2024-06-25T06:02:31.229828Z",
     "shell.execute_reply.started": "2024-06-25T06:02:21.954116Z"
    }
   },
   "outputs": [
    {
     "data": {
      "application/vnd.jupyter.widget-view+json": {
       "model_id": "727dfe02e6104b3cb75ce900f6ffce96",
       "version_major": 2,
       "version_minor": 0
      },
      "text/plain": [
       "VBox()"
      ]
     },
     "metadata": {},
     "output_type": "display_data"
    },
    {
     "data": {
      "application/vnd.jupyter.widget-view+json": {
       "model_id": "",
       "version_major": 2,
       "version_minor": 0
      },
      "text/plain": [
       "FloatProgress(value=0.0, bar_style='info', description='Progress:', layout=Layout(height='25px', width='50%'),…"
      ]
     },
     "metadata": {},
     "output_type": "display_data"
    },
    {
     "name": "stdout",
     "output_type": "stream",
     "text": [
      "+-------------------+-------------------+-------------+------------+----------+-----------+---------+-----------+-----------+----------+-------------+---------------+---------------+-------------------+-----------------+----------------+---------------+------+--------+--------+----------+---------+---------+--------------+-------------+\n",
      "|          From Date|            To Date|PM2.5 (ug/m3)|PM10 (ug/m3)|NO (ug/m3)|NO2 (ug/m3)|NOx (ppb)|NH3 (ug/m3)|SO2 (ug/m3)|CO (mg/m3)|Ozone (ug/m3)|Benzene (ug/m3)|Toluene (ug/m3)|Eth-Benzene (ug/m3)|MP-Xylene (ug/m3)|O Xylene (ug/m3)|Temp (degree C)|RH (%)|WS (m/s)|WD (deg)|SR (W/mt2)|BP (mmHg)|VWS (m/s)|Xylene (ug/m3)|AT (degree C)|\n",
      "+-------------------+-------------------+-------------+------------+----------+-----------+---------+-----------+-----------+----------+-------------+---------------+---------------+-------------------+-----------------+----------------+---------------+------+--------+--------+----------+---------+---------+--------------+-------------+\n",
      "|2010-01-01 00:00:00|2010-01-01 01:00:00|         NULL|        NULL|     68.69|     132.78|   201.47|       NULL|        3.2|      1.21|         5.76|          54.66|         135.43|              13.12|            27.44|           18.92|           11.7| 84.33|    0.37|   51.97|    100.76|   957.94|      0.2|          NULL|         NULL|\n",
      "|2010-01-01 01:00:00|2010-01-01 02:00:00|         NULL|        NULL|     12.42|      65.33|    77.75|       NULL|       1.03|      NULL|         1.87|          32.16|          53.57|               5.64|            10.21|            3.36|           11.5|  83.7|    0.42|   79.32|    114.72|   956.52|      0.2|          NULL|         NULL|\n",
      "|2010-01-01 02:00:00|2010-01-01 03:00:00|         NULL|        NULL|      7.48|      40.04|    47.51|       NULL|       4.92|      NULL|         1.76|          16.63|          20.68|               0.33|             1.04|            NULL|           11.1| 85.17|    0.46|   91.75|    123.42|   952.03|     0.17|          NULL|         NULL|\n",
      "|2010-01-01 03:00:00|2010-01-01 04:00:00|         NULL|        NULL|      4.22|      27.98|     32.2|       NULL|       5.59|      NULL|         1.35|          12.44|          12.21|               0.89|             0.42|            0.32|          10.47| 86.72|    0.22|   64.99|    104.67|   962.79|     0.17|          NULL|         NULL|\n",
      "|2010-01-01 04:00:00|2010-01-01 05:00:00|         NULL|        NULL|     12.91|      32.46|    45.37|       NULL|       5.57|      NULL|          2.0|          11.61|          16.54|               NULL|             0.77|            NULL|          10.04| 86.97|    0.19|   47.37|     80.95|   969.16|      0.2|          NULL|         NULL|\n",
      "|2010-01-01 05:00:00|2010-01-01 06:00:00|         NULL|        NULL|     23.52|      42.91|    66.43|       NULL|       4.95|      1.53|         2.67|          16.47|          15.69|               NULL|             0.39|            0.67|           9.51| 88.15|    0.25|   47.91|     69.74|   967.64|      0.2|          NULL|         NULL|\n",
      "|2010-01-01 06:00:00|2010-01-01 07:00:00|         NULL|        NULL|      8.96|      33.28|    42.24|       NULL|       2.21|      2.15|          2.1|          13.63|          14.26|               NULL|             0.46|            NULL|           9.27| 87.94|    0.25|   94.78|     70.01|   968.35|     0.17|          NULL|         NULL|\n",
      "|2010-01-01 07:00:00|2010-01-01 08:00:00|         NULL|        NULL|     12.16|      33.53|     45.7|       NULL|       2.49|      2.97|         4.15|          15.38|          14.24|               NULL|             1.47|            0.28|           9.22|  88.1|    0.29|   65.44|      94.0|   964.12|     0.17|          NULL|         NULL|\n",
      "|2010-01-01 08:00:00|2010-01-01 09:00:00|         NULL|        NULL|     26.27|       43.6|    69.87|       NULL|        3.4|      1.69|         3.31|          16.08|          13.49|               NULL|             0.54|            0.47|          10.66| 83.26|    0.61|   58.27|    170.73|   964.59|      0.2|          NULL|         NULL|\n",
      "|2010-01-01 09:00:00|2010-01-01 10:00:00|         NULL|        NULL|     34.29|      87.36|   121.65|       NULL|       3.66|      1.72|         3.22|          18.64|          16.58|               0.84|             0.86|            0.93|          12.81| 76.05|    0.87|    55.2|    265.18|   965.28|     0.21|          NULL|         NULL|\n",
      "|2010-01-01 10:00:00|2010-01-01 11:00:00|         NULL|        NULL|     22.21|     124.42|   146.63|       NULL|       1.77|      2.13|         5.26|          13.91|           15.6|               NULL|             NULL|            1.12|          14.79| 68.82|    1.34|   80.47|    266.61|   968.12|      0.2|          NULL|         NULL|\n",
      "|2010-01-01 11:00:00|2010-01-01 12:00:00|         NULL|        NULL|     16.64|      76.84|    93.48|       NULL|       2.01|       2.2|         7.34|          10.68|          19.02|               0.61|             0.66|            0.61|          17.56| 61.58|    1.06|  106.12|    410.58|   971.94|     0.21|          NULL|         NULL|\n",
      "|2010-01-01 12:00:00|2010-01-01 13:00:00|         NULL|        NULL|     15.81|      68.97|    84.77|       NULL|       1.73|      NULL|         9.09|          10.41|          20.52|               1.63|             NULL|            NULL|          19.36| 56.36|    0.98|  107.59|    417.18|   964.61|     0.22|          NULL|         NULL|\n",
      "|2010-01-01 13:00:00|2010-01-01 14:00:00|         NULL|        NULL|      8.16|      44.93|    53.09|       NULL|       1.56|      NULL|        19.81|           9.55|           18.2|               NULL|             NULL|            NULL|          20.83| 48.97|    0.61|  122.95|    405.88|   962.58|     0.22|          NULL|         NULL|\n",
      "|2010-01-01 14:00:00|2010-01-01 15:00:00|         NULL|        NULL|      5.63|      31.76|    37.39|       NULL|       3.44|      1.62|        18.15|            5.0|           6.46|               NULL|             0.16|            0.24|          21.75| 44.07|    0.62|  136.12|    422.32|   963.83|     0.22|          NULL|         NULL|\n",
      "|2010-01-01 15:00:00|2010-01-01 16:00:00|         NULL|        NULL|       6.3|      33.27|    39.58|       NULL|        5.4|      1.97|        19.89|           5.29|           8.33|               NULL|             0.32|            0.47|          21.47| 45.18|    0.38|  150.89|    288.49|   961.93|     0.22|          NULL|         NULL|\n",
      "|2010-01-01 16:00:00|2010-01-01 17:00:00|         NULL|        NULL|      5.32|      31.22|    36.54|       NULL|       6.84|      NULL|        14.67|            4.8|          15.49|               NULL|             NULL|            8.54|          20.42| 46.76|    0.18|  169.96|    146.85|   957.03|     0.21|          NULL|         NULL|\n",
      "|2010-01-01 17:00:00|2010-01-01 18:00:00|         NULL|        NULL|     16.68|      54.01|    70.69|       NULL|       5.34|      2.47|         8.35|          10.77|           55.2|               1.27|             4.15|           27.04|          17.38| 60.97|    NULL|  157.33|     74.83|   951.83|      0.2|          NULL|         NULL|\n",
      "|2010-01-01 18:00:00|2010-01-01 19:00:00|         NULL|        NULL|      43.9|      93.45|   137.35|       NULL|       3.29|      5.76|        13.95|          30.72|         224.86|               14.5|             35.9|           38.14|          15.67| 70.15|    0.06|  157.47|     77.99|   955.93|     0.18|          NULL|         NULL|\n",
      "|2010-01-01 19:00:00|2010-01-01 20:00:00|         NULL|        NULL|     98.48|     148.09|   246.58|       NULL|       4.16|      8.49|        18.72|          63.99|         237.43|              23.71|            61.76|           34.02|          15.07| 74.94|     0.2|  242.67|     42.25|   962.17|     0.18|          NULL|         NULL|\n",
      "+-------------------+-------------------+-------------+------------+----------+-----------+---------+-----------+-----------+----------+-------------+---------------+---------------+-------------------+-----------------+----------------+---------------+------+--------+--------+----------+---------+---------+--------------+-------------+\n",
      "only showing top 20 rows\n",
      "\n"
     ]
    }
   ],
   "source": [
    "df_csv.show()"
   ]
  },
  {
   "cell_type": "code",
   "execution_count": 5,
   "id": "3528b9eb-52ad-498a-a997-51f41e3a2943",
   "metadata": {
    "execution": {
     "iopub.execute_input": "2024-06-25T06:08:25.424872Z",
     "iopub.status.busy": "2024-06-25T06:08:25.424632Z",
     "iopub.status.idle": "2024-06-25T06:10:29.006902Z",
     "shell.execute_reply": "2024-06-25T06:10:29.005997Z",
     "shell.execute_reply.started": "2024-06-25T06:08:25.424847Z"
    },
    "tags": []
   },
   "outputs": [
    {
     "data": {
      "application/vnd.jupyter.widget-view+json": {
       "model_id": "20680998ce8148c58b2491f6a7cb88c0",
       "version_major": 2,
       "version_minor": 0
      },
      "text/plain": [
       "VBox()"
      ]
     },
     "metadata": {},
     "output_type": "display_data"
    },
    {
     "data": {
      "application/vnd.jupyter.widget-view+json": {
       "model_id": "",
       "version_major": 2,
       "version_minor": 0
      },
      "text/plain": [
       "FloatProgress(value=0.0, bar_style='info', description='Progress:', layout=Layout(height='25px', width='50%'),…"
      ]
     },
     "metadata": {},
     "output_type": "display_data"
    }
   ],
   "source": [
    "df_csv.write.parquet(\"s3://spark-final-assignment/MandatoryTask3/output-data/TimeSeriesData/\")"
   ]
  },
  {
   "cell_type": "code",
   "execution_count": 7,
   "id": "16bc25be-8ae0-47d7-908e-b3387baf3d2a",
   "metadata": {
    "execution": {
     "iopub.execute_input": "2024-06-25T06:22:04.167016Z",
     "iopub.status.busy": "2024-06-25T06:22:04.166796Z",
     "iopub.status.idle": "2024-06-25T06:22:11.438653Z",
     "shell.execute_reply": "2024-06-25T06:22:11.437926Z",
     "shell.execute_reply.started": "2024-06-25T06:22:04.166991Z"
    },
    "tags": []
   },
   "outputs": [
    {
     "data": {
      "application/vnd.jupyter.widget-view+json": {
       "model_id": "53a92921c735484f90ce7cfac047bbde",
       "version_major": 2,
       "version_minor": 0
      },
      "text/plain": [
       "VBox()"
      ]
     },
     "metadata": {},
     "output_type": "display_data"
    },
    {
     "data": {
      "application/vnd.jupyter.widget-view+json": {
       "model_id": "",
       "version_major": 2,
       "version_minor": 0
      },
      "text/plain": [
       "FloatProgress(value=0.0, bar_style='info', description='Progress:', layout=Layout(height='25px', width='50%'),…"
      ]
     },
     "metadata": {},
     "output_type": "display_data"
    },
    {
     "name": "stdout",
     "output_type": "stream",
     "text": [
      "df_parquet: org.apache.spark.sql.DataFrame = [From Date: string, To Date: string ... 23 more fields]\n"
     ]
    }
   ],
   "source": [
    "val df_parquet = spark.read.option(\"header\", \"true\").option(\"inferSchema\", \"true\").parquet(\"s3://spark-final-assignment/MandatoryTask3/output-data/TimeSeriesData/\")"
   ]
  },
  {
   "cell_type": "code",
   "execution_count": 8,
   "id": "a3a93817-91b0-40f6-86e0-6cd4b388189f",
   "metadata": {
    "execution": {
     "iopub.execute_input": "2024-06-25T06:22:21.395767Z",
     "iopub.status.busy": "2024-06-25T06:22:21.395451Z",
     "iopub.status.idle": "2024-06-25T06:22:23.687406Z",
     "shell.execute_reply": "2024-06-25T06:22:23.686771Z",
     "shell.execute_reply.started": "2024-06-25T06:22:21.395729Z"
    }
   },
   "outputs": [
    {
     "data": {
      "application/vnd.jupyter.widget-view+json": {
       "model_id": "80765463fe4d4b2cb61a7914e1cf6a6c",
       "version_major": 2,
       "version_minor": 0
      },
      "text/plain": [
       "VBox()"
      ]
     },
     "metadata": {},
     "output_type": "display_data"
    },
    {
     "data": {
      "application/vnd.jupyter.widget-view+json": {
       "model_id": "",
       "version_major": 2,
       "version_minor": 0
      },
      "text/plain": [
       "FloatProgress(value=0.0, bar_style='info', description='Progress:', layout=Layout(height='25px', width='50%'),…"
      ]
     },
     "metadata": {},
     "output_type": "display_data"
    },
    {
     "name": "stdout",
     "output_type": "stream",
     "text": [
      "+-------------------+-------------------+-------------+------------+----------+-----------+---------+-----------+-----------+----------+-------------+---------------+---------------+-------------------+-----------------+----------------+---------------+------+--------+--------+----------+---------+---------+--------------+-------------+\n",
      "|          From Date|            To Date|PM2.5 (ug/m3)|PM10 (ug/m3)|NO (ug/m3)|NO2 (ug/m3)|NOx (ppb)|NH3 (ug/m3)|SO2 (ug/m3)|CO (mg/m3)|Ozone (ug/m3)|Benzene (ug/m3)|Toluene (ug/m3)|Eth-Benzene (ug/m3)|MP-Xylene (ug/m3)|O Xylene (ug/m3)|Temp (degree C)|RH (%)|WS (m/s)|WD (deg)|SR (W/mt2)|BP (mmHg)|VWS (m/s)|Xylene (ug/m3)|AT (degree C)|\n",
      "+-------------------+-------------------+-------------+------------+----------+-----------+---------+-----------+-----------+----------+-------------+---------------+---------------+-------------------+-----------------+----------------+---------------+------+--------+--------+----------+---------+---------+--------------+-------------+\n",
      "|2023-02-10 09:00:00|2023-02-10 10:00:00|         40.0|       139.5|      2.45|       7.95|     6.25|      19.45|      14.55|       0.3|        61.85|            0.1|            0.2|               NULL|             NULL|            NULL|           56.0|  1.85|   239.5|   219.0|      NULL|    25.65|      0.0|          NULL|         NULL|\n",
      "|2023-02-10 10:00:00|2023-02-10 11:00:00|        18.75|       92.25|      1.95|       5.88|     4.67|      21.62|       15.1|      0.29|        64.92|            0.0|            0.2|               NULL|             NULL|            NULL|          56.25|  2.12|   241.0|   236.5|      NULL|    26.18|      0.0|          NULL|         NULL|\n",
      "|2023-02-10 11:00:00|2023-02-10 12:00:00|        13.25|        96.5|      1.78|       5.35|     4.28|       23.6|      14.18|      0.27|        66.17|            0.0|            0.2|               NULL|             NULL|            NULL|          53.25|  1.95|   251.0|   264.5|      NULL|     26.9|      0.0|          NULL|         NULL|\n",
      "|2023-02-10 12:00:00|2023-02-10 13:00:00|        15.25|       115.0|       1.6|        5.0|     3.97|      24.45|      13.05|      0.26|        70.33|            0.0|            0.2|               NULL|             NULL|            NULL|           48.5|  1.75|  238.75|  175.75|      NULL|    27.55|      0.0|          NULL|         NULL|\n",
      "|2023-02-10 13:00:00|2023-02-10 14:00:00|         18.5|        93.5|      1.62|       5.42|     4.23|       24.6|      11.62|      0.27|        71.47|            0.0|            0.2|               NULL|             NULL|            NULL|           45.0|  1.95|   248.0|  266.25|      NULL|     28.0|      0.0|          NULL|         NULL|\n",
      "|2023-02-10 14:00:00|2023-02-10 15:00:00|         12.0|        83.0|      1.55|       4.47|     3.62|      25.93|       8.72|      0.27|         73.6|            0.0|            0.2|               NULL|             NULL|            NULL|          40.75|  1.77|  237.75|  235.25|      NULL|    28.45|      0.0|          NULL|         NULL|\n",
      "|2023-02-10 15:00:00|2023-02-10 16:00:00|        11.75|        84.0|      1.45|       4.75|     3.67|      27.02|        7.2|      0.31|        76.92|            0.0|            0.2|               NULL|             NULL|            NULL|           39.0|  1.73|   241.5|   185.5|      NULL|    28.67|      0.0|          NULL|         NULL|\n",
      "|2023-02-10 16:00:00|2023-02-10 17:00:00|        10.25|       86.75|      1.58|        4.7|     3.77|      24.95|        7.7|      0.32|        79.83|            0.0|            0.2|               NULL|             NULL|            NULL|           39.5|   1.7|   240.5|   126.0|      NULL|    28.67|      0.0|          NULL|         NULL|\n",
      "|2023-02-10 17:00:00|2023-02-10 18:00:00|         13.5|        84.0|       1.6|       5.75|     4.33|      23.18|      12.12|      0.33|        80.42|            0.0|            0.2|               NULL|             0.03|            NULL|          42.75|  0.95|  210.25|    73.0|      NULL|    28.33|      0.0|          NULL|         NULL|\n",
      "|2023-02-10 18:00:00|2023-02-10 19:00:00|         20.0|      101.75|      1.48|      11.43|      7.3|      21.72|      11.38|       0.4|        67.52|            0.0|            0.2|                0.1|              0.1|            NULL|           50.0|  0.55|   201.5|   53.75|      NULL|    27.53|      0.0|          NULL|         NULL|\n",
      "|2023-02-10 19:00:00|2023-02-10 20:00:00|         22.0|       132.0|       1.3|      18.52|     10.9|      19.45|       7.67|      0.47|        53.25|           0.03|            0.3|               0.03|              0.1|            NULL|          52.25|  0.38|  200.75|    53.0|      NULL|    26.95|      0.0|          NULL|         NULL|\n",
      "|2023-02-10 20:00:00|2023-02-10 21:00:00|         24.5|       136.0|      2.15|      49.15|    27.88|       20.4|       6.93|      0.83|         21.0|           0.12|           0.75|               0.38|             0.45|             0.1|           55.0|  0.35|   216.0|    53.0|      NULL|    26.58|      0.0|          NULL|         NULL|\n",
      "|2023-02-10 21:00:00|2023-02-10 22:00:00|        41.75|      226.25|      1.42|      22.15|    12.93|      20.15|        6.7|      0.48|        49.97|           0.12|           1.82|               1.05|             1.05|             0.3|          54.75|   0.4|   140.0|   53.25|      NULL|     26.4|      0.0|          NULL|         NULL|\n",
      "|2023-02-10 22:00:00|2023-02-10 23:00:00|        23.75|       95.75|      2.05|      25.42|     15.2|      18.77|        5.7|      0.51|        37.43|            0.0|           0.45|               0.05|              0.1|            NULL|           63.5|   0.1|   97.75|   53.75|      NULL|    25.53|      0.0|          NULL|         NULL|\n",
      "|2023-02-10 23:00:00|2023-02-11 00:00:00|        19.25|       94.75|      2.27|      40.77|    23.55|      18.17|       4.75|      0.64|        15.22|           0.08|           0.57|                0.1|             0.12|            0.03|           70.0|  0.15|  130.25|    54.0|      NULL|    25.05|      0.0|          NULL|         NULL|\n",
      "|2023-02-11 00:00:00|2023-02-11 01:00:00|         37.5|      129.25|      5.05|      49.65|    30.53|      19.32|       3.52|      0.86|         5.83|           0.12|           1.32|               0.15|             0.42|            0.17|           75.0|   0.1|   96.75|    54.0|      NULL|    24.73|      0.0|          NULL|         NULL|\n",
      "|2023-02-11 01:00:00|2023-02-11 02:00:00|         44.0|      150.25|      4.85|      39.47|    24.92|       20.1|        3.1|      0.58|        19.35|            0.1|           1.23|                0.2|             0.57|             0.2|          74.75|  0.27|   104.5|    54.0|      NULL|    24.73|      0.0|          NULL|         NULL|\n",
      "|2023-02-11 02:00:00|2023-02-11 03:00:00|        27.25|       98.25|      1.45|      15.78|     9.57|      20.43|       2.92|      0.33|        32.75|           0.03|           0.38|               0.03|             0.15|            0.03|           78.5|   0.1|    76.0|    53.5|      NULL|    24.38|      0.0|          NULL|         NULL|\n",
      "|2023-02-11 03:00:00|2023-02-11 04:00:00|        18.25|        69.0|      4.67|      36.67|     23.3|       21.8|        2.7|      0.38|        11.58|           0.05|           0.45|               0.03|             0.12|            NULL|          82.25|  0.15|   120.0|    53.0|      NULL|     24.1|      0.0|          NULL|         NULL|\n",
      "|2023-02-11 04:00:00|2023-02-11 05:00:00|        24.25|       90.75|      7.57|       39.8|    27.32|      23.12|       2.22|      0.41|         7.27|           0.05|            0.5|                0.1|              0.2|            0.03|           84.0|  0.15|  111.25|   53.25|      NULL|    24.05|      0.0|          NULL|         NULL|\n",
      "+-------------------+-------------------+-------------+------------+----------+-----------+---------+-----------+-----------+----------+-------------+---------------+---------------+-------------------+-----------------+----------------+---------------+------+--------+--------+----------+---------+---------+--------------+-------------+\n",
      "only showing top 20 rows\n",
      "\n"
     ]
    }
   ],
   "source": [
    "df_parquet.show()"
   ]
  },
  {
   "cell_type": "code",
   "execution_count": 10,
   "id": "8d49d32e-4d66-44d2-a66e-c16f2a41c06a",
   "metadata": {
    "execution": {
     "iopub.execute_input": "2024-06-25T06:22:45.181986Z",
     "iopub.status.busy": "2024-06-25T06:22:45.181761Z",
     "iopub.status.idle": "2024-06-25T06:22:45.936627Z",
     "shell.execute_reply": "2024-06-25T06:22:45.935918Z",
     "shell.execute_reply.started": "2024-06-25T06:22:45.181963Z"
    },
    "tags": []
   },
   "outputs": [
    {
     "data": {
      "application/vnd.jupyter.widget-view+json": {
       "model_id": "a0f324919605487789132656dae14f10",
       "version_major": 2,
       "version_minor": 0
      },
      "text/plain": [
       "VBox()"
      ]
     },
     "metadata": {},
     "output_type": "display_data"
    },
    {
     "data": {
      "application/vnd.jupyter.widget-view+json": {
       "model_id": "",
       "version_major": 2,
       "version_minor": 0
      },
      "text/plain": [
       "FloatProgress(value=0.0, bar_style='info', description='Progress:', layout=Layout(height='25px', width='50%'),…"
      ]
     },
     "metadata": {},
     "output_type": "display_data"
    },
    {
     "name": "stdout",
     "output_type": "stream",
     "text": [
      "root\n",
      " |-- From Date: string (nullable = true)\n",
      " |-- To Date: string (nullable = true)\n",
      " |-- PM2.5 (ug/m3): string (nullable = true)\n",
      " |-- PM10 (ug/m3): string (nullable = true)\n",
      " |-- NO (ug/m3): string (nullable = true)\n",
      " |-- NO2 (ug/m3): string (nullable = true)\n",
      " |-- NOx (ppb): string (nullable = true)\n",
      " |-- NH3 (ug/m3): string (nullable = true)\n",
      " |-- SO2 (ug/m3): string (nullable = true)\n",
      " |-- CO (mg/m3): string (nullable = true)\n",
      " |-- Ozone (ug/m3): string (nullable = true)\n",
      " |-- Benzene (ug/m3): string (nullable = true)\n",
      " |-- Toluene (ug/m3): string (nullable = true)\n",
      " |-- Eth-Benzene (ug/m3): string (nullable = true)\n",
      " |-- MP-Xylene (ug/m3): string (nullable = true)\n",
      " |-- O Xylene (ug/m3): string (nullable = true)\n",
      " |-- Temp (degree C): string (nullable = true)\n",
      " |-- RH (%): string (nullable = true)\n",
      " |-- WS (m/s): string (nullable = true)\n",
      " |-- WD (deg): string (nullable = true)\n",
      " |-- SR (W/mt2): string (nullable = true)\n",
      " |-- BP (mmHg): string (nullable = true)\n",
      " |-- VWS (m/s): string (nullable = true)\n",
      " |-- Xylene (ug/m3): string (nullable = true)\n",
      " |-- AT (degree C): string (nullable = true)\n",
      "\n"
     ]
    }
   ],
   "source": [
    "df_parquet.printSchema()"
   ]
  },
  {
   "cell_type": "code",
   "execution_count": 11,
   "id": "4f76f3b1-7052-41a5-a8aa-a3912813c857",
   "metadata": {
    "execution": {
     "iopub.execute_input": "2024-06-25T06:27:21.424065Z",
     "iopub.status.busy": "2024-06-25T06:27:21.423844Z",
     "iopub.status.idle": "2024-06-25T06:27:21.673511Z",
     "shell.execute_reply": "2024-06-25T06:27:21.672838Z",
     "shell.execute_reply.started": "2024-06-25T06:27:21.424042Z"
    }
   },
   "outputs": [
    {
     "data": {
      "application/vnd.jupyter.widget-view+json": {
       "model_id": "bd0b93a284794108b4f37a3bc8ff4f90",
       "version_major": 2,
       "version_minor": 0
      },
      "text/plain": [
       "VBox()"
      ]
     },
     "metadata": {},
     "output_type": "display_data"
    },
    {
     "data": {
      "application/vnd.jupyter.widget-view+json": {
       "model_id": "",
       "version_major": 2,
       "version_minor": 0
      },
      "text/plain": [
       "FloatProgress(value=0.0, bar_style='info', description='Progress:', layout=Layout(height='25px', width='50%'),…"
      ]
     },
     "metadata": {},
     "output_type": "display_data"
    },
    {
     "name": "stdout",
     "output_type": "stream",
     "text": [
      "mysql_url: String = jdbc:mysql://35.197.52.85:3306/spark_task_3\n"
     ]
    }
   ],
   "source": [
    "val mysql_url = \"jdbc:mysql://35.197.52.85:3306/spark_task_3\""
   ]
  },
  {
   "cell_type": "code",
   "execution_count": 12,
   "id": "2baf4430-de95-44b6-8179-157a9133ab91",
   "metadata": {
    "execution": {
     "iopub.execute_input": "2024-06-25T06:27:55.160752Z",
     "iopub.status.busy": "2024-06-25T06:27:55.160499Z",
     "iopub.status.idle": "2024-06-25T06:27:55.907647Z",
     "shell.execute_reply": "2024-06-25T06:27:55.906980Z",
     "shell.execute_reply.started": "2024-06-25T06:27:55.160726Z"
    }
   },
   "outputs": [
    {
     "data": {
      "application/vnd.jupyter.widget-view+json": {
       "model_id": "a2243db7c0b349d2a425f73a2127c552",
       "version_major": 2,
       "version_minor": 0
      },
      "text/plain": [
       "VBox()"
      ]
     },
     "metadata": {},
     "output_type": "display_data"
    },
    {
     "data": {
      "application/vnd.jupyter.widget-view+json": {
       "model_id": "",
       "version_major": 2,
       "version_minor": 0
      },
      "text/plain": [
       "FloatProgress(value=0.0, bar_style='info', description='Progress:', layout=Layout(height='25px', width='50%'),…"
      ]
     },
     "metadata": {},
     "output_type": "display_data"
    },
    {
     "name": "stdout",
     "output_type": "stream",
     "text": [
      "user: String = admin\n",
      "pass: String = Password@131299\n"
     ]
    }
   ],
   "source": [
    "val user = \"admin\"\n",
    "val pass = \"Password@131299\""
   ]
  },
  {
   "cell_type": "code",
   "execution_count": 22,
   "id": "0f0f89b9-4ee6-4223-911d-8ddf57504335",
   "metadata": {
    "execution": {
     "iopub.execute_input": "2024-06-25T06:39:03.785935Z",
     "iopub.status.busy": "2024-06-25T06:39:03.785716Z",
     "iopub.status.idle": "2024-06-25T06:39:04.032630Z",
     "shell.execute_reply": "2024-06-25T06:39:04.031851Z",
     "shell.execute_reply.started": "2024-06-25T06:39:03.785911Z"
    },
    "tags": []
   },
   "outputs": [
    {
     "data": {
      "application/vnd.jupyter.widget-view+json": {
       "model_id": "a5cc942198304863b4b26aab94d1015c",
       "version_major": 2,
       "version_minor": 0
      },
      "text/plain": [
       "VBox()"
      ]
     },
     "metadata": {},
     "output_type": "display_data"
    },
    {
     "data": {
      "application/vnd.jupyter.widget-view+json": {
       "model_id": "",
       "version_major": 2,
       "version_minor": 0
      },
      "text/plain": [
       "FloatProgress(value=0.0, bar_style='info', description='Progress:', layout=Layout(height='25px', width='50%'),…"
      ]
     },
     "metadata": {},
     "output_type": "display_data"
    },
    {
     "name": "stdout",
     "output_type": "stream",
     "text": [
      "df_select_1: org.apache.spark.sql.DataFrame = [From Date: string, To Date: string ... 3 more fields]\n"
     ]
    }
   ],
   "source": [
    "val df_select_1 = df_parquet.select(col(\"From Date\"), col(\"To Date\"), col(\"PM10 (ug/m3)\"), col(\"NO (ug/m3)\"), col(\"NO2 (ug/m3)\"))"
   ]
  },
  {
   "cell_type": "code",
   "execution_count": 36,
   "id": "7d2d929f-c810-48b8-90ea-b97eae422f9e",
   "metadata": {
    "execution": {
     "iopub.execute_input": "2024-06-25T06:56:35.195958Z",
     "iopub.status.busy": "2024-06-25T06:56:35.195735Z",
     "iopub.status.idle": "2024-06-25T06:56:35.442254Z",
     "shell.execute_reply": "2024-06-25T06:56:35.441427Z",
     "shell.execute_reply.started": "2024-06-25T06:56:35.195935Z"
    },
    "tags": []
   },
   "outputs": [
    {
     "data": {
      "application/vnd.jupyter.widget-view+json": {
       "model_id": "359389016e5c40daa43d52c6ddd87d79",
       "version_major": 2,
       "version_minor": 0
      },
      "text/plain": [
       "VBox()"
      ]
     },
     "metadata": {},
     "output_type": "display_data"
    },
    {
     "data": {
      "application/vnd.jupyter.widget-view+json": {
       "model_id": "",
       "version_major": 2,
       "version_minor": 0
      },
      "text/plain": [
       "FloatProgress(value=0.0, bar_style='info', description='Progress:', layout=Layout(height='25px', width='50%'),…"
      ]
     },
     "metadata": {},
     "output_type": "display_data"
    },
    {
     "name": "stdout",
     "output_type": "stream",
     "text": [
      "df_filter_1: org.apache.spark.sql.Dataset[org.apache.spark.sql.Row] = [From Date: string, To Date: string ... 23 more fields]\n"
     ]
    }
   ],
   "source": [
    "val df_filter_1 = df_parquet.filter(col(\"PM10 (ug/m3)\") < 50)"
   ]
  },
  {
   "cell_type": "code",
   "execution_count": 40,
   "id": "fb2ac066-3433-4054-9a87-b595d22c68ae",
   "metadata": {
    "execution": {
     "iopub.execute_input": "2024-06-25T07:03:21.809229Z",
     "iopub.status.busy": "2024-06-25T07:03:21.809002Z",
     "iopub.status.idle": "2024-06-25T07:03:22.054463Z",
     "shell.execute_reply": "2024-06-25T07:03:22.053728Z",
     "shell.execute_reply.started": "2024-06-25T07:03:21.809205Z"
    }
   },
   "outputs": [
    {
     "data": {
      "application/vnd.jupyter.widget-view+json": {
       "model_id": "3694053f57a24f8c83582f1687f3f535",
       "version_major": 2,
       "version_minor": 0
      },
      "text/plain": [
       "VBox()"
      ]
     },
     "metadata": {},
     "output_type": "display_data"
    },
    {
     "data": {
      "application/vnd.jupyter.widget-view+json": {
       "model_id": "",
       "version_major": 2,
       "version_minor": 0
      },
      "text/plain": [
       "FloatProgress(value=0.0, bar_style='info', description='Progress:', layout=Layout(height='25px', width='50%'),…"
      ]
     },
     "metadata": {},
     "output_type": "display_data"
    },
    {
     "name": "stdout",
     "output_type": "stream",
     "text": [
      "agg_op_1: org.apache.spark.sql.DataFrame = [Ozone (ug/m3): string, sum_of_Ozone: double]\n"
     ]
    }
   ],
   "source": [
    "val agg_op_1 = df_parquet.groupBy(\"Ozone (ug/m3)\").agg(sum(\"Ozone (ug/m3)\").alias(\"sum_of_Ozone\"))"
   ]
  },
  {
   "cell_type": "code",
   "execution_count": 41,
   "id": "46999733-3f4b-49ff-bb8a-83c27c979fe3",
   "metadata": {
    "execution": {
     "iopub.execute_input": "2024-06-25T07:04:41.053423Z",
     "iopub.status.busy": "2024-06-25T07:04:41.053181Z",
     "iopub.status.idle": "2024-06-25T07:06:40.619003Z",
     "shell.execute_reply": "2024-06-25T07:06:40.618366Z",
     "shell.execute_reply.started": "2024-06-25T07:04:41.053392Z"
    }
   },
   "outputs": [
    {
     "data": {
      "application/vnd.jupyter.widget-view+json": {
       "model_id": "94d2ac77864945e8aaa92031011ff4b6",
       "version_major": 2,
       "version_minor": 0
      },
      "text/plain": [
       "VBox()"
      ]
     },
     "metadata": {},
     "output_type": "display_data"
    },
    {
     "data": {
      "application/vnd.jupyter.widget-view+json": {
       "model_id": "",
       "version_major": 2,
       "version_minor": 0
      },
      "text/plain": [
       "FloatProgress(value=0.0, bar_style='info', description='Progress:', layout=Layout(height='25px', width='50%'),…"
      ]
     },
     "metadata": {},
     "output_type": "display_data"
    }
   ],
   "source": [
    "agg_op_1.write.format(\"jdbc\").option(\"url\", mysql_url).option(\"dbtable\", \"sumOzone\").option(\"user\", user).option(\"password\", pass).save()"
   ]
  },
  {
   "cell_type": "code",
   "execution_count": 42,
   "id": "b04d2856-74f8-4251-8c62-c553574ae2f1",
   "metadata": {
    "execution": {
     "iopub.execute_input": "2024-06-25T07:16:59.330729Z",
     "iopub.status.busy": "2024-06-25T07:16:59.330468Z",
     "iopub.status.idle": "2024-06-25T07:16:59.577923Z",
     "shell.execute_reply": "2024-06-25T07:16:59.577068Z",
     "shell.execute_reply.started": "2024-06-25T07:16:59.330701Z"
    }
   },
   "outputs": [
    {
     "data": {
      "application/vnd.jupyter.widget-view+json": {
       "model_id": "015d5180561f46e49c118f2af425c96c",
       "version_major": 2,
       "version_minor": 0
      },
      "text/plain": [
       "VBox()"
      ]
     },
     "metadata": {},
     "output_type": "display_data"
    },
    {
     "data": {
      "application/vnd.jupyter.widget-view+json": {
       "model_id": "",
       "version_major": 2,
       "version_minor": 0
      },
      "text/plain": [
       "FloatProgress(value=0.0, bar_style='info', description='Progress:', layout=Layout(height='25px', width='50%'),…"
      ]
     },
     "metadata": {},
     "output_type": "display_data"
    },
    {
     "name": "stdout",
     "output_type": "stream",
     "text": [
      "filter_op_1: org.apache.spark.sql.Dataset[org.apache.spark.sql.Row] = [From Date: string, To Date: string ... 23 more fields]\n"
     ]
    }
   ],
   "source": [
    "val filter_op_1 = df_parquet.filter(col(\"From Date\") > \"2023-02-21\" && col(\"From Date\") < \"2023-03-01\")"
   ]
  },
  {
   "cell_type": "code",
   "execution_count": 43,
   "id": "bcaa8499-1e13-43c0-80fe-07d52da7581d",
   "metadata": {
    "execution": {
     "iopub.execute_input": "2024-06-25T07:17:08.511267Z",
     "iopub.status.busy": "2024-06-25T07:17:08.511044Z",
     "iopub.status.idle": "2024-06-25T07:17:17.790810Z",
     "shell.execute_reply": "2024-06-25T07:17:17.790183Z",
     "shell.execute_reply.started": "2024-06-25T07:17:08.511243Z"
    }
   },
   "outputs": [
    {
     "data": {
      "application/vnd.jupyter.widget-view+json": {
       "model_id": "30fc00820f9342e88fa16b0628ed094c",
       "version_major": 2,
       "version_minor": 0
      },
      "text/plain": [
       "VBox()"
      ]
     },
     "metadata": {},
     "output_type": "display_data"
    },
    {
     "data": {
      "application/vnd.jupyter.widget-view+json": {
       "model_id": "",
       "version_major": 2,
       "version_minor": 0
      },
      "text/plain": [
       "FloatProgress(value=0.0, bar_style='info', description='Progress:', layout=Layout(height='25px', width='50%'),…"
      ]
     },
     "metadata": {},
     "output_type": "display_data"
    },
    {
     "name": "stdout",
     "output_type": "stream",
     "text": [
      "+-------------------+-------------------+-------------+------------+----------+-----------+---------+-----------+-----------+----------+-------------+---------------+---------------+-------------------+-----------------+----------------+---------------+------+--------+--------+----------+---------+---------+--------------+-------------+\n",
      "|          From Date|            To Date|PM2.5 (ug/m3)|PM10 (ug/m3)|NO (ug/m3)|NO2 (ug/m3)|NOx (ppb)|NH3 (ug/m3)|SO2 (ug/m3)|CO (mg/m3)|Ozone (ug/m3)|Benzene (ug/m3)|Toluene (ug/m3)|Eth-Benzene (ug/m3)|MP-Xylene (ug/m3)|O Xylene (ug/m3)|Temp (degree C)|RH (%)|WS (m/s)|WD (deg)|SR (W/mt2)|BP (mmHg)|VWS (m/s)|Xylene (ug/m3)|AT (degree C)|\n",
      "+-------------------+-------------------+-------------+------------+----------+-----------+---------+-----------+-----------+----------+-------------+---------------+---------------+-------------------+-----------------+----------------+---------------+------+--------+--------+----------+---------+---------+--------------+-------------+\n",
      "|2023-02-21 00:00:00|2023-02-21 01:00:00|         7.75|       49.25|      1.15|        7.6|     4.98|      11.93|       3.33|      0.21|        60.02|            0.0|            1.8|                0.2|              0.5|             0.2|          22.75|  0.78|   235.0|     9.0|      NULL|     26.9|      0.0|          NULL|         NULL|\n",
      "|2023-02-21 01:00:00|2023-02-21 02:00:00|         4.75|        45.0|       1.2|        5.0|     3.65|      13.05|       4.05|       0.2|         57.2|            0.0|           1.78|                0.2|              0.5|             0.2|           27.5|  1.05|   236.5|     9.0|      NULL|    26.95|      0.0|          NULL|         NULL|\n",
      "|2023-02-21 02:00:00|2023-02-21 03:00:00|          4.0|        45.0|      1.28|       4.17|     3.27|      14.12|        5.0|      0.21|        53.32|            0.0|            1.7|                0.2|             0.43|             0.2|           31.5|   0.7|   256.0|     9.0|      NULL|     26.5|      0.0|          NULL|         NULL|\n",
      "|2023-02-21 03:00:00|2023-02-21 04:00:00|         4.75|        46.0|      1.18|        4.6|      3.4|      14.93|       5.58|      0.24|        48.15|            0.0|           1.65|               0.17|              0.4|             0.2|           35.5|  0.82|  244.25|     9.0|      NULL|    26.15|      0.0|          NULL|         NULL|\n",
      "|2023-02-21 04:00:00|2023-02-21 05:00:00|         8.25|       50.25|      1.42|       5.65|     4.15|      15.25|        6.7|      0.25|        44.15|            0.0|            1.6|               0.12|              0.4|            0.18|           39.0|  1.03|   244.0|     9.0|      NULL|    25.98|      0.0|          NULL|         NULL|\n",
      "|2023-02-21 05:00:00|2023-02-21 06:00:00|        22.25|       61.25|      1.27|        5.5|     3.95|      16.77|       5.75|      0.27|        46.62|            0.0|           1.52|                0.1|             0.35|            0.15|          46.75|  1.12|  235.75|     9.0|      NULL|    25.73|      0.0|          NULL|         NULL|\n",
      "|2023-02-21 06:00:00|2023-02-21 07:00:00|         46.0|        81.0|      1.45|        7.6|      5.2|       18.3|       5.15|      0.31|         42.1|            0.0|            1.5|                0.1|              0.3|            0.12|           52.5|  0.62|  199.75|    10.5|      NULL|    25.25|      0.0|          NULL|         NULL|\n",
      "|2023-02-21 07:00:00|2023-02-21 08:00:00|         52.0|       105.0|      2.08|      12.83|     8.47|      18.82|       5.27|      0.39|         37.0|            0.0|            1.5|                0.1|              0.3|            0.12|          57.25|  0.55|  212.75|   64.25|      NULL|     25.1|      0.0|          NULL|         NULL|\n",
      "|2023-02-21 08:00:00|2023-02-21 09:00:00|         52.0|      139.75|      2.23|      11.47|      7.9|      20.73|       6.12|       0.4|        48.23|            0.0|            1.5|               0.12|             0.33|            0.15|          58.75|  0.93|  226.25|  185.75|      NULL|    25.57|      0.0|          NULL|         NULL|\n",
      "|2023-02-21 09:00:00|2023-02-21 10:00:00|         43.0|       152.0|      2.23|        8.3|     6.22|      22.62|       7.58|      0.37|        59.45|            0.0|            1.5|                0.1|             0.38|             0.1|           61.5|  1.38|   240.0|   216.0|      NULL|     26.2|      0.0|          NULL|         NULL|\n",
      "|2023-02-21 10:00:00|2023-02-21 11:00:00|        36.25|       140.0|       1.9|        7.0|     5.25|      26.62|       8.82|      0.34|        65.55|            0.0|            1.5|               0.12|             0.35|             0.2|           61.5|  1.07|   230.0|  269.75|      NULL|    27.08|      0.0|          NULL|         NULL|\n",
      "|2023-02-21 11:00:00|2023-02-21 12:00:00|         36.0|       127.5|      1.57|       6.38|      4.7|      29.88|       8.68|      0.37|        73.43|            0.0|           1.42|               0.12|             0.33|            0.15|          57.25|   1.1|  239.75|  312.25|      NULL|    27.85|      0.0|          NULL|         NULL|\n",
      "|2023-02-21 12:00:00|2023-02-21 13:00:00|        24.25|       130.5|       1.5|       7.47|      5.2|      31.57|       8.43|      0.39|        84.62|            0.0|            1.5|               0.15|             0.32|             0.2|          49.75|  1.12|   235.0|  225.75|      NULL|     28.8|      0.0|          NULL|         NULL|\n",
      "|2023-02-21 13:00:00|2023-02-21 14:00:00|        28.75|      137.25|       1.8|       6.85|     5.12|       32.8|       8.25|      0.39|        92.97|            0.0|            1.6|                0.2|              0.4|             0.2|           42.5|  1.08|  226.75|   321.5|      NULL|    29.45|      0.0|          NULL|         NULL|\n",
      "|2023-02-21 14:00:00|2023-02-21 15:00:00|        27.25|       126.0|      1.62|       5.95|      4.5|      33.75|       12.3|      0.39|       108.85|            0.0|            1.6|                0.2|              0.4|             0.2|          35.75|  1.27|  228.25|  284.25|      NULL|    29.88|      0.0|          NULL|         NULL|\n",
      "|2023-02-21 15:00:00|2023-02-21 16:00:00|        27.25|       119.0|      1.35|        5.4|     3.95|      34.23|      13.85|       0.4|       124.57|            0.0|            1.7|                0.2|             0.43|             0.2|           31.5|  1.12|   226.5|   225.0|      NULL|    30.13|      0.0|          NULL|         NULL|\n",
      "|2023-02-21 16:00:00|2023-02-21 17:00:00|         29.0|       113.0|       1.4|       4.88|     3.75|      29.35|      11.62|      0.39|        124.6|            0.0|           1.65|                0.2|             0.47|             0.2|          31.25|  1.05|   230.5|   160.0|      NULL|    30.12|      0.0|          NULL|         NULL|\n",
      "|2023-02-21 17:00:00|2023-02-21 18:00:00|        27.75|      104.25|      1.45|       6.35|     4.55|       26.3|       9.57|      0.41|       116.55|            0.0|           1.55|                0.2|              0.4|             0.2|          33.75|   0.8|   228.5|   94.75|      NULL|    29.83|      0.0|          NULL|         NULL|\n",
      "|2023-02-21 18:00:00|2023-02-21 19:00:00|         34.5|       135.0|       1.3|       14.0|      8.5|      24.95|       9.48|      0.54|       104.15|            0.0|           1.65|               0.23|             0.47|             0.2|          38.25|  0.95|   241.0|    17.0|      NULL|     29.1|      0.0|          NULL|         NULL|\n",
      "|2023-02-21 19:00:00|2023-02-21 20:00:00|         43.5|       177.0|      1.45|      16.45|     9.93|      21.98|        9.2|      0.56|        87.22|            0.0|            1.8|                0.5|             0.62|             0.3|          40.25|  0.92|   242.0|    10.0|      NULL|    28.67|      0.0|          NULL|         NULL|\n",
      "+-------------------+-------------------+-------------+------------+----------+-----------+---------+-----------+-----------+----------+-------------+---------------+---------------+-------------------+-----------------+----------------+---------------+------+--------+--------+----------+---------+---------+--------------+-------------+\n",
      "only showing top 20 rows\n",
      "\n"
     ]
    }
   ],
   "source": [
    "filter_op_1.show()"
   ]
  },
  {
   "cell_type": "code",
   "execution_count": 44,
   "id": "e36403f1-d14b-4a09-b9b4-1ef9f1fd8e50",
   "metadata": {
    "execution": {
     "iopub.execute_input": "2024-06-25T07:17:58.640187Z",
     "iopub.status.busy": "2024-06-25T07:17:58.639961Z",
     "iopub.status.idle": "2024-06-25T07:19:34.137181Z",
     "shell.execute_reply": "2024-06-25T07:19:34.136526Z",
     "shell.execute_reply.started": "2024-06-25T07:17:58.640163Z"
    },
    "tags": []
   },
   "outputs": [
    {
     "data": {
      "application/vnd.jupyter.widget-view+json": {
       "model_id": "624ad13e823f4581b358f160a4a6a4fa",
       "version_major": 2,
       "version_minor": 0
      },
      "text/plain": [
       "VBox()"
      ]
     },
     "metadata": {},
     "output_type": "display_data"
    },
    {
     "data": {
      "application/vnd.jupyter.widget-view+json": {
       "model_id": "",
       "version_major": 2,
       "version_minor": 0
      },
      "text/plain": [
       "FloatProgress(value=0.0, bar_style='info', description='Progress:', layout=Layout(height='25px', width='50%'),…"
      ]
     },
     "metadata": {},
     "output_type": "display_data"
    }
   ],
   "source": [
    "filter_op_1.write.format(\"jdbc\").option(\"url\", mysql_url).option(\"dbtable\", \"dataBetweenDates\").option(\"user\", user).option(\"password\", pass).save()"
   ]
  },
  {
   "cell_type": "code",
   "execution_count": 51,
   "id": "de1fb63a-1705-4d26-b148-217f12b946ba",
   "metadata": {
    "execution": {
     "iopub.execute_input": "2024-06-25T07:26:42.108775Z",
     "iopub.status.busy": "2024-06-25T07:26:42.108558Z",
     "iopub.status.idle": "2024-06-25T07:26:42.360810Z",
     "shell.execute_reply": "2024-06-25T07:26:42.360079Z",
     "shell.execute_reply.started": "2024-06-25T07:26:42.108752Z"
    },
    "tags": []
   },
   "outputs": [
    {
     "data": {
      "application/vnd.jupyter.widget-view+json": {
       "model_id": "2bcde0ab20e14ef491457343832b4293",
       "version_major": 2,
       "version_minor": 0
      },
      "text/plain": [
       "VBox()"
      ]
     },
     "metadata": {},
     "output_type": "display_data"
    },
    {
     "data": {
      "application/vnd.jupyter.widget-view+json": {
       "model_id": "",
       "version_major": 2,
       "version_minor": 0
      },
      "text/plain": [
       "FloatProgress(value=0.0, bar_style='info', description='Progress:', layout=Layout(height='25px', width='50%'),…"
      ]
     },
     "metadata": {},
     "output_type": "display_data"
    },
    {
     "name": "stdout",
     "output_type": "stream",
     "text": [
      "filter_op_2: org.apache.spark.sql.Dataset[org.apache.spark.sql.Row] = [From Date: string, To Date: string ... 23 more fields]\n"
     ]
    }
   ],
   "source": [
    "val filter_op_2 = df_parquet.filter(col(\"NH3 (ug/m3)\") >= 15 and col(\"NH3 (ug/m3)\") <= 20 && col(\"NH3 (ug/m3)\") >0)"
   ]
  },
  {
   "cell_type": "code",
   "execution_count": 52,
   "id": "650291ac-27cd-4522-8bd7-9c3d8111b4c1",
   "metadata": {
    "execution": {
     "iopub.execute_input": "2024-06-25T07:26:44.651230Z",
     "iopub.status.busy": "2024-06-25T07:26:44.650986Z",
     "iopub.status.idle": "2024-06-25T07:26:45.407438Z",
     "shell.execute_reply": "2024-06-25T07:26:45.406626Z",
     "shell.execute_reply.started": "2024-06-25T07:26:44.651205Z"
    },
    "tags": []
   },
   "outputs": [
    {
     "data": {
      "application/vnd.jupyter.widget-view+json": {
       "model_id": "b99d1d25545945138ced7727c4462166",
       "version_major": 2,
       "version_minor": 0
      },
      "text/plain": [
       "VBox()"
      ]
     },
     "metadata": {},
     "output_type": "display_data"
    },
    {
     "data": {
      "application/vnd.jupyter.widget-view+json": {
       "model_id": "",
       "version_major": 2,
       "version_minor": 0
      },
      "text/plain": [
       "FloatProgress(value=0.0, bar_style='info', description='Progress:', layout=Layout(height='25px', width='50%'),…"
      ]
     },
     "metadata": {},
     "output_type": "display_data"
    },
    {
     "name": "stdout",
     "output_type": "stream",
     "text": [
      "+-------------------+-------------------+-------------+------------+----------+-----------+---------+-----------+-----------+----------+-------------+---------------+---------------+-------------------+-----------------+----------------+---------------+------+--------+--------+----------+---------+---------+--------------+-------------+\n",
      "|          From Date|            To Date|PM2.5 (ug/m3)|PM10 (ug/m3)|NO (ug/m3)|NO2 (ug/m3)|NOx (ppb)|NH3 (ug/m3)|SO2 (ug/m3)|CO (mg/m3)|Ozone (ug/m3)|Benzene (ug/m3)|Toluene (ug/m3)|Eth-Benzene (ug/m3)|MP-Xylene (ug/m3)|O Xylene (ug/m3)|Temp (degree C)|RH (%)|WS (m/s)|WD (deg)|SR (W/mt2)|BP (mmHg)|VWS (m/s)|Xylene (ug/m3)|AT (degree C)|\n",
      "+-------------------+-------------------+-------------+------------+----------+-----------+---------+-----------+-----------+----------+-------------+---------------+---------------+-------------------+-----------------+----------------+---------------+------+--------+--------+----------+---------+---------+--------------+-------------+\n",
      "|2023-02-10 09:00:00|2023-02-10 10:00:00|         40.0|       139.5|      2.45|       7.95|     6.25|      19.45|      14.55|       0.3|        61.85|            0.1|            0.2|               NULL|             NULL|            NULL|           56.0|  1.85|   239.5|   219.0|      NULL|    25.65|      0.0|          NULL|         NULL|\n",
      "|2023-02-10 19:00:00|2023-02-10 20:00:00|         22.0|       132.0|       1.3|      18.52|     10.9|      19.45|       7.67|      0.47|        53.25|           0.03|            0.3|               0.03|              0.1|            NULL|          52.25|  0.38|  200.75|    53.0|      NULL|    26.95|      0.0|          NULL|         NULL|\n",
      "|2023-02-10 20:00:00|2023-02-10 21:00:00|         24.5|       136.0|      2.15|      49.15|    27.88|       20.4|       6.93|      0.83|         21.0|           0.12|           0.75|               0.38|             0.45|             0.1|           55.0|  0.35|   216.0|    53.0|      NULL|    26.58|      0.0|          NULL|         NULL|\n",
      "|2023-02-10 21:00:00|2023-02-10 22:00:00|        41.75|      226.25|      1.42|      22.15|    12.93|      20.15|        6.7|      0.48|        49.97|           0.12|           1.82|               1.05|             1.05|             0.3|          54.75|   0.4|   140.0|   53.25|      NULL|     26.4|      0.0|          NULL|         NULL|\n",
      "|2023-02-10 22:00:00|2023-02-10 23:00:00|        23.75|       95.75|      2.05|      25.42|     15.2|      18.77|        5.7|      0.51|        37.43|            0.0|           0.45|               0.05|              0.1|            NULL|           63.5|   0.1|   97.75|   53.75|      NULL|    25.53|      0.0|          NULL|         NULL|\n",
      "|2023-02-10 23:00:00|2023-02-11 00:00:00|        19.25|       94.75|      2.27|      40.77|    23.55|      18.17|       4.75|      0.64|        15.22|           0.08|           0.57|                0.1|             0.12|            0.03|           70.0|  0.15|  130.25|    54.0|      NULL|    25.05|      0.0|          NULL|         NULL|\n",
      "|2023-02-11 00:00:00|2023-02-11 01:00:00|         37.5|      129.25|      5.05|      49.65|    30.53|      19.32|       3.52|      0.86|         5.83|           0.12|           1.32|               0.15|             0.42|            0.17|           75.0|   0.1|   96.75|    54.0|      NULL|    24.73|      0.0|          NULL|         NULL|\n",
      "|2023-02-11 01:00:00|2023-02-11 02:00:00|         44.0|      150.25|      4.85|      39.47|    24.92|       20.1|        3.1|      0.58|        19.35|            0.1|           1.23|                0.2|             0.57|             0.2|          74.75|  0.27|   104.5|    54.0|      NULL|    24.73|      0.0|          NULL|         NULL|\n",
      "|2023-02-11 02:00:00|2023-02-11 03:00:00|        27.25|       98.25|      1.45|      15.78|     9.57|      20.43|       2.92|      0.33|        32.75|           0.03|           0.38|               0.03|             0.15|            0.03|           78.5|   0.1|    76.0|    53.5|      NULL|    24.38|      0.0|          NULL|         NULL|\n",
      "|2023-02-11 17:00:00|2023-02-11 18:00:00|         42.5|       237.5|      1.77|       10.2|     6.88|      20.95|       2.75|      0.37|        98.78|            0.0|           1.48|                0.1|              0.3|            0.15|          23.75|  0.25|   54.25|   46.75|      NULL|    28.15|      0.0|          NULL|         NULL|\n",
      "|2023-02-11 18:00:00|2023-02-11 19:00:00|        37.75|       207.5|       1.5|      34.77|    19.73|      19.18|       3.73|      0.81|        65.42|            0.0|           1.72|                0.2|             0.38|             0.2|           28.0|  0.17|   92.25|   20.25|      NULL|    26.48|      0.0|          NULL|         NULL|\n",
      "|2023-02-11 19:00:00|2023-02-11 20:00:00|         61.0|       270.5|      1.57|      39.95|    22.52|      17.48|        3.3|      0.76|        53.95|            0.1|           1.85|                0.2|             0.45|             0.2|          29.25|  0.33|   67.75|    19.0|      NULL|    25.95|      0.0|          NULL|         NULL|\n",
      "|2023-02-11 20:00:00|2023-02-11 21:00:00|        45.25|       251.0|       1.5|      26.97|    15.53|       15.9|        3.1|      0.46|        71.83|            0.1|           1.92|                0.2|             0.58|            0.28|          27.25|  0.45|    24.0|    19.0|      NULL|    26.18|      0.0|          NULL|         NULL|\n",
      "|2023-02-11 21:00:00|2023-02-11 22:00:00|         38.0|       234.5|      1.48|      25.98|     15.0|      16.25|        3.3|      0.56|        60.23|            0.1|            1.9|                0.2|             0.58|             0.2|           32.0|  0.35|   52.25|    19.0|      NULL|     25.5|      0.0|          NULL|         NULL|\n",
      "|2023-02-11 22:00:00|2023-02-11 23:00:00|         40.5|      196.75|      1.33|      23.25|    13.43|      16.25|       3.08|      0.46|         66.7|            0.1|           1.82|                0.2|             0.58|             0.2|          31.25|  0.47|    24.0|    19.0|      NULL|    25.35|      0.0|          NULL|         NULL|\n",
      "|2023-02-11 23:00:00|2023-02-12 00:00:00|         35.5|      148.25|      1.37|       15.7|     9.43|       15.9|       3.38|      0.33|        81.58|            0.1|            1.8|                0.2|             0.53|             0.2|          30.25|   0.6|    17.5|    19.0|      NULL|    25.32|      0.0|          NULL|         NULL|\n",
      "|2023-02-12 00:00:00|2023-02-12 01:00:00|        28.25|       122.5|      1.12|      11.15|     6.85|       16.5|        3.6|      0.33|        85.45|            0.1|            1.8|                0.2|              0.5|             0.2|          30.25|  0.85|    9.75|    19.0|      NULL|    25.17|      0.0|          NULL|         NULL|\n",
      "|2023-02-12 01:00:00|2023-02-12 02:00:00|        29.75|      113.75|      1.35|       9.55|     6.15|      15.35|        3.6|      0.32|        85.38|            0.1|            1.8|                0.2|             0.45|             0.2|           31.5|  0.77|   12.25|    19.0|      NULL|    24.85|      0.0|          NULL|         NULL|\n",
      "|2023-02-12 02:00:00|2023-02-12 03:00:00|         26.0|       95.75|      1.43|        9.1|     6.03|      15.17|       4.53|      0.32|         79.6|            0.1|            1.8|                0.2|              0.4|             0.2|          36.25|  0.35|   47.75|    19.0|      NULL|    24.25|      0.0|          NULL|         NULL|\n",
      "|2023-02-12 03:00:00|2023-02-12 04:00:00|        26.25|       92.75|      1.38|       8.38|     5.58|      15.35|       7.05|      0.32|        82.55|           0.03|           1.77|                0.2|              0.4|             0.2|           37.0|   0.3|   53.25|    18.5|      NULL|    24.15|      0.0|          NULL|         NULL|\n",
      "+-------------------+-------------------+-------------+------------+----------+-----------+---------+-----------+-----------+----------+-------------+---------------+---------------+-------------------+-----------------+----------------+---------------+------+--------+--------+----------+---------+---------+--------------+-------------+\n",
      "only showing top 20 rows\n",
      "\n"
     ]
    }
   ],
   "source": [
    "filter_op_2.show()"
   ]
  },
  {
   "cell_type": "code",
   "execution_count": 61,
   "id": "6ba4af2a-b1af-47c2-a3e8-37823e8ef6f2",
   "metadata": {
    "execution": {
     "iopub.execute_input": "2024-06-25T07:39:51.030090Z",
     "iopub.status.busy": "2024-06-25T07:39:51.029800Z",
     "iopub.status.idle": "2024-06-25T07:55:12.503267Z",
     "shell.execute_reply": "2024-06-25T07:55:12.502621Z",
     "shell.execute_reply.started": "2024-06-25T07:39:51.030056Z"
    },
    "tags": []
   },
   "outputs": [
    {
     "data": {
      "application/vnd.jupyter.widget-view+json": {
       "model_id": "e74ac6a9d9a348b684e704dd45e3137d",
       "version_major": 2,
       "version_minor": 0
      },
      "text/plain": [
       "VBox()"
      ]
     },
     "metadata": {},
     "output_type": "display_data"
    },
    {
     "data": {
      "application/vnd.jupyter.widget-view+json": {
       "model_id": "",
       "version_major": 2,
       "version_minor": 0
      },
      "text/plain": [
       "FloatProgress(value=0.0, bar_style='info', description='Progress:', layout=Layout(height='25px', width='50%'),…"
      ]
     },
     "metadata": {},
     "output_type": "display_data"
    }
   ],
   "source": [
    "filter_op_2.select(col(\"From Date\"), col(\"To Date\"), col(\"NH3 (ug/m3)\")).write.format(\"jdbc\").option(\"url\", mysql_url).option(\"dbtable\", \"NH3FilteredData\").option(\"user\", user).option(\"password\", pass).save()"
   ]
  },
  {
   "cell_type": "code",
   "execution_count": 58,
   "id": "f8774d01-df62-4498-8d99-e2f3d07d4b28",
   "metadata": {
    "execution": {
     "iopub.execute_input": "2024-06-25T07:36:42.175982Z",
     "iopub.status.busy": "2024-06-25T07:36:42.175757Z",
     "iopub.status.idle": "2024-06-25T07:36:53.458007Z",
     "shell.execute_reply": "2024-06-25T07:36:53.457145Z",
     "shell.execute_reply.started": "2024-06-25T07:36:42.175958Z"
    },
    "tags": []
   },
   "outputs": [
    {
     "data": {
      "application/vnd.jupyter.widget-view+json": {
       "model_id": "a413cb0b47814f4183381d32ca632075",
       "version_major": 2,
       "version_minor": 0
      },
      "text/plain": [
       "VBox()"
      ]
     },
     "metadata": {},
     "output_type": "display_data"
    },
    {
     "data": {
      "application/vnd.jupyter.widget-view+json": {
       "model_id": "",
       "version_major": 2,
       "version_minor": 0
      },
      "text/plain": [
       "FloatProgress(value=0.0, bar_style='info', description='Progress:', layout=Layout(height='25px', width='50%'),…"
      ]
     },
     "metadata": {},
     "output_type": "display_data"
    },
    {
     "name": "stdout",
     "output_type": "stream",
     "text": [
      "agg_op_2: org.apache.spark.sql.DataFrame = [Avg_NO: double]\n",
      "+-----------------+\n",
      "|           Avg_NO|\n",
      "+-----------------+\n",
      "|18.43341412112284|\n",
      "+-----------------+\n",
      "\n"
     ]
    }
   ],
   "source": [
    "val agg_op_2 = df_parquet.select(avg(col(\"NO (ug/m3)\").cast(\"float\")).alias(\"Avg_NO\"))\n",
    "agg_op_2.show()"
   ]
  },
  {
   "cell_type": "code",
   "execution_count": 59,
   "id": "ee442158-1b70-4229-ae3f-6b9a28d24637",
   "metadata": {
    "execution": {
     "iopub.execute_input": "2024-06-25T07:37:18.312034Z",
     "iopub.status.busy": "2024-06-25T07:37:18.311775Z",
     "iopub.status.idle": "2024-06-25T07:37:25.581750Z",
     "shell.execute_reply": "2024-06-25T07:37:25.581079Z",
     "shell.execute_reply.started": "2024-06-25T07:37:18.312004Z"
    }
   },
   "outputs": [
    {
     "data": {
      "application/vnd.jupyter.widget-view+json": {
       "model_id": "a0eba7b60b5f4e1187a321da903ac591",
       "version_major": 2,
       "version_minor": 0
      },
      "text/plain": [
       "VBox()"
      ]
     },
     "metadata": {},
     "output_type": "display_data"
    },
    {
     "data": {
      "application/vnd.jupyter.widget-view+json": {
       "model_id": "",
       "version_major": 2,
       "version_minor": 0
      },
      "text/plain": [
       "FloatProgress(value=0.0, bar_style='info', description='Progress:', layout=Layout(height='25px', width='50%'),…"
      ]
     },
     "metadata": {},
     "output_type": "display_data"
    }
   ],
   "source": [
    "agg_op_2.write.format(\"jdbc\").option(\"url\", mysql_url).option(\"dbtable\", \"AvgNOFromAllData\").option(\"user\", user).option(\"password\", pass).save()"
   ]
  },
  {
   "cell_type": "code",
   "execution_count": 67,
   "id": "142c76b0-1527-4093-a42a-fcae7cca1566",
   "metadata": {
    "execution": {
     "iopub.execute_input": "2024-06-25T08:09:32.267541Z",
     "iopub.status.busy": "2024-06-25T08:09:32.267320Z",
     "iopub.status.idle": "2024-06-25T08:09:33.021527Z",
     "shell.execute_reply": "2024-06-25T08:09:33.020859Z",
     "shell.execute_reply.started": "2024-06-25T08:09:32.267516Z"
    },
    "tags": []
   },
   "outputs": [
    {
     "data": {
      "application/vnd.jupyter.widget-view+json": {
       "model_id": "21650e31061249319ef91876a2d86cca",
       "version_major": 2,
       "version_minor": 0
      },
      "text/plain": [
       "VBox()"
      ]
     },
     "metadata": {},
     "output_type": "display_data"
    },
    {
     "data": {
      "application/vnd.jupyter.widget-view+json": {
       "model_id": "",
       "version_major": 2,
       "version_minor": 0
      },
      "text/plain": [
       "FloatProgress(value=0.0, bar_style='info', description='Progress:', layout=Layout(height='25px', width='50%'),…"
      ]
     },
     "metadata": {},
     "output_type": "display_data"
    },
    {
     "name": "stdout",
     "output_type": "stream",
     "text": [
      "filter_op_3: org.apache.spark.sql.Dataset[org.apache.spark.sql.Row] = [From Date: string, To Date: string ... 23 more fields]\n",
      "+-------------------+-------------------+-------------+------------+----------+-----------+---------+-----------+-----------+----------+-------------+---------------+---------------+-------------------+-----------------+----------------+---------------+------+--------+--------+----------+---------+---------+--------------+-------------+\n",
      "|          From Date|            To Date|PM2.5 (ug/m3)|PM10 (ug/m3)|NO (ug/m3)|NO2 (ug/m3)|NOx (ppb)|NH3 (ug/m3)|SO2 (ug/m3)|CO (mg/m3)|Ozone (ug/m3)|Benzene (ug/m3)|Toluene (ug/m3)|Eth-Benzene (ug/m3)|MP-Xylene (ug/m3)|O Xylene (ug/m3)|Temp (degree C)|RH (%)|WS (m/s)|WD (deg)|SR (W/mt2)|BP (mmHg)|VWS (m/s)|Xylene (ug/m3)|AT (degree C)|\n",
      "+-------------------+-------------------+-------------+------------+----------+-----------+---------+-----------+-----------+----------+-------------+---------------+---------------+-------------------+-----------------+----------------+---------------+------+--------+--------+----------+---------+---------+--------------+-------------+\n",
      "|2023-03-13 15:00:00|2023-03-13 16:00:00|       135.73|      161.34|      4.15|      16.55|    12.01|      34.66|       0.01|      NULL|         NULL|           NULL|           NULL|               NULL|             NULL|            NULL|           NULL|  NULL|    NULL|    NULL|      NULL|     NULL|     NULL|          NULL|         NULL|\n",
      "|2023-03-19 22:00:00|2023-03-19 23:00:00|        50.05|      293.28|      NULL|       NULL|     NULL|       NULL|       0.02|       0.1|         10.1|           0.03|           1.04|               2.09|             0.39|            0.22|           NULL| 67.98|    0.39|   85.44|     13.71|     NULL|     NULL|         20.94|         NULL|\n",
      "|2023-03-01 23:00:00|2023-03-02 00:00:00|         58.6|      132.35|      0.62|      16.98|     9.54|       NULL|       0.01|      39.3|         NULL|           NULL|           NULL|               NULL|             NULL|            NULL|           NULL|  NULL|    NULL|    NULL|      NULL|     NULL|     NULL|          NULL|         NULL|\n",
      "|2023-03-02 12:00:00|2023-03-02 13:00:00|        65.25|       124.8|      1.51|        8.0|     5.48|       0.85|       0.02|     98.33|         NULL|           NULL|           NULL|               NULL|             NULL|            NULL|           NULL|  NULL|    NULL|    NULL|      NULL|     NULL|     NULL|          NULL|         NULL|\n",
      "|2023-03-02 13:00:00|2023-03-02 14:00:00|        50.57|        97.4|      2.83|      14.93|    10.24|       0.42|       0.04|     92.37|         NULL|           NULL|           NULL|               NULL|             NULL|            NULL|           NULL|  NULL|    NULL|    NULL|      NULL|     NULL|     NULL|          NULL|         NULL|\n",
      "|2023-02-04 06:00:00|2023-02-04 07:00:00|        25.83|       40.68|      4.66|      14.72|    19.84|      34.57|       0.03|      0.73|         1.69|           0.75|          79.74|               0.34|           178.15|           22.82|            0.0| 11.09|    NULL|    NULL|      NULL|     NULL|     NULL|          NULL|         NULL|\n",
      "|2023-01-06 02:00:00|2023-01-06 03:00:00|        50.47|        72.0|      4.67|      42.24|    25.82|      13.06|       0.04|      1.16|         2.41|           5.32|          76.18|               1.25|            11.15|            32.8|            0.0|  16.2|    NULL|    NULL|      NULL|     NULL|     NULL|          NULL|         NULL|\n",
      "|2023-01-06 03:00:00|2023-01-06 04:00:00|        48.71|       72.94|      4.31|      40.25|    24.48|      11.83|       0.03|       1.1|         3.26|           5.25|          70.17|               1.29|            25.89|           32.88|            0.0| 15.48|    NULL|    NULL|      NULL|     NULL|     NULL|          NULL|         NULL|\n",
      "|2023-01-06 04:00:00|2023-01-06 05:00:00|        47.25|       74.02|      4.58|      38.83|    23.96|      11.49|       0.04|      1.05|         2.77|           4.92|          70.92|               0.83|            95.77|           32.73|            0.0| 14.62|    NULL|    NULL|      NULL|     NULL|     NULL|          NULL|         NULL|\n",
      "|2023-01-06 05:00:00|2023-01-06 06:00:00|        45.38|       70.83|      5.75|      38.12|    24.53|      11.65|       0.04|       1.0|         2.21|           4.61|          73.19|               0.71|            92.97|            32.5|            0.0| 13.92|    NULL|    NULL|      NULL|     NULL|     NULL|          NULL|         NULL|\n",
      "|2023-01-06 21:00:00|2023-01-06 22:00:00|         53.9|      143.16|     93.41|      47.42|    99.68|      52.13|       0.01|      1.25|          2.9|           4.27|          57.81|                0.3|            39.18|            31.7|            0.0| 14.61|    NULL|    NULL|      NULL|     NULL|     NULL|          NULL|         NULL|\n",
      "|2023-01-06 22:00:00|2023-01-06 23:00:00|        56.25|      213.47|    102.97|      46.23|   106.73|      55.22|       0.01|      1.38|          2.8|           4.99|          57.38|               0.14|           124.23|           32.12|            0.0| 13.33|    NULL|    NULL|      NULL|     NULL|     NULL|          NULL|         NULL|\n",
      "|2023-01-07 05:00:00|2023-01-07 06:00:00|         14.1|        68.9|     36.41|      31.18|    45.49|       3.14|       0.01|      1.41|         3.11|           5.95|          72.77|               0.58|            22.77|           31.62|            0.0|  9.58|    NULL|    NULL|      NULL|     NULL|     NULL|          NULL|         NULL|\n",
      "|2023-01-08 13:00:00|2023-01-08 14:00:00|         NULL|        NULL|     44.81|      40.51|     57.1|        2.0|       0.03|      0.81|         2.73|           4.15|          11.38|               1.61|             4.59|          300.23|            0.0| 24.74|    NULL|    NULL|      NULL|     NULL|     NULL|          NULL|         NULL|\n",
      "|2023-01-09 00:00:00|2023-01-09 01:00:00|        39.31|      222.33|    118.89|      44.18|   118.43|      28.66|       0.04|       1.8|         3.62|           7.67|          63.38|               0.12|            106.5|           31.77|            0.0| 11.87|    NULL|    NULL|      NULL|     NULL|     NULL|          NULL|         NULL|\n",
      "|2023-01-10 20:00:00|2023-01-10 21:00:00|        158.3|        NULL|     151.6|      56.42|   151.05|      40.83|       0.01|      1.82|         3.93|           8.87|          52.27|               0.28|           218.31|           32.42|            0.0| 17.12|    NULL|    NULL|      NULL|     NULL|     NULL|          NULL|         NULL|\n",
      "|2023-01-11 05:00:00|2023-01-11 06:00:00|        32.57|       80.22|    120.91|      49.12|   122.62|        2.0|       0.03|      1.41|         2.78|           7.98|          81.55|                0.1|            63.51|           31.98|            0.0| 11.82|    NULL|    NULL|      NULL|     NULL|     NULL|          NULL|         NULL|\n",
      "|2023-01-11 06:00:00|2023-01-11 07:00:00|        44.08|      148.88|    115.25|      48.56|   117.79|        2.0|       0.04|      1.32|         2.65|           7.37|           79.5|               0.14|           190.87|           33.48|            0.0| 11.25|    NULL|    NULL|      NULL|     NULL|     NULL|          NULL|         NULL|\n",
      "|2023-01-08 06:00:00|2023-01-08 07:00:00|        71.32|      122.27|      4.73|       9.96|     7.53|      11.84|       0.01|      0.39|        31.87|            0.0|            0.0|               NULL|             NULL|            NULL|          85.04|  0.92|   45.28|     5.5|    898.52|      0.0|    18.14|          NULL|         NULL|\n",
      "|2023-01-15 06:00:00|2023-01-15 07:00:00|       102.48|      113.18|      4.73|      12.34|     8.79|      12.59|       0.04|      0.52|        32.21|            0.0|            0.0|               NULL|             NULL|            NULL|          94.46|  0.46|   96.61|    5.68|    888.18|      0.0|     12.8|          NULL|         NULL|\n",
      "+-------------------+-------------------+-------------+------------+----------+-----------+---------+-----------+-----------+----------+-------------+---------------+---------------+-------------------+-----------------+----------------+---------------+------+--------+--------+----------+---------+---------+--------------+-------------+\n",
      "only showing top 20 rows\n",
      "\n"
     ]
    }
   ],
   "source": [
    "val filter_op_3 = df_parquet.filter(col(\"SO2 (ug/m3)\") < 0.05 && col(\"SO2 (ug/m3)\") > 0.0)\n",
    "filter_op_3.show()"
   ]
  },
  {
   "cell_type": "code",
   "execution_count": 68,
   "id": "0e4875a4-8bab-42df-99db-a83a347d1f00",
   "metadata": {
    "execution": {
     "iopub.execute_input": "2024-06-25T08:10:03.684311Z",
     "iopub.status.busy": "2024-06-25T08:10:03.684093Z",
     "iopub.status.idle": "2024-06-25T08:10:51.042651Z",
     "shell.execute_reply": "2024-06-25T08:10:51.041854Z",
     "shell.execute_reply.started": "2024-06-25T08:10:03.684288Z"
    },
    "tags": []
   },
   "outputs": [
    {
     "data": {
      "application/vnd.jupyter.widget-view+json": {
       "model_id": "a6d2fad73a0c43a4b70de59f7b4aea62",
       "version_major": 2,
       "version_minor": 0
      },
      "text/plain": [
       "VBox()"
      ]
     },
     "metadata": {},
     "output_type": "display_data"
    },
    {
     "data": {
      "application/vnd.jupyter.widget-view+json": {
       "model_id": "",
       "version_major": 2,
       "version_minor": 0
      },
      "text/plain": [
       "FloatProgress(value=0.0, bar_style='info', description='Progress:', layout=Layout(height='25px', width='50%'),…"
      ]
     },
     "metadata": {},
     "output_type": "display_data"
    }
   ],
   "source": [
    "filter_op_3.select(col(\"SO2 (ug/m3)\")).write.format(\"jdbc\").option(\"url\", mysql_url).option(\"dbtable\", \"SO2FilteredData\").option(\"user\", user).option(\"password\", pass).save()"
   ]
  },
  {
   "cell_type": "code",
   "execution_count": 71,
   "id": "42f0e515-6e0c-473e-a6c7-b868b1a7da74",
   "metadata": {
    "execution": {
     "iopub.execute_input": "2024-06-25T08:12:38.616096Z",
     "iopub.status.busy": "2024-06-25T08:12:38.615764Z",
     "iopub.status.idle": "2024-06-25T08:12:49.894901Z",
     "shell.execute_reply": "2024-06-25T08:12:49.894196Z",
     "shell.execute_reply.started": "2024-06-25T08:12:38.616054Z"
    },
    "tags": []
   },
   "outputs": [
    {
     "data": {
      "application/vnd.jupyter.widget-view+json": {
       "model_id": "8c59a364ae8e45e5b80e425a88c95500",
       "version_major": 2,
       "version_minor": 0
      },
      "text/plain": [
       "VBox()"
      ]
     },
     "metadata": {},
     "output_type": "display_data"
    },
    {
     "data": {
      "application/vnd.jupyter.widget-view+json": {
       "model_id": "",
       "version_major": 2,
       "version_minor": 0
      },
      "text/plain": [
       "FloatProgress(value=0.0, bar_style='info', description='Progress:', layout=Layout(height='25px', width='50%'),…"
      ]
     },
     "metadata": {},
     "output_type": "display_data"
    },
    {
     "name": "stdout",
     "output_type": "stream",
     "text": [
      "agg_op_3: org.apache.spark.sql.DataFrame = [Sum_PM2.5: double]\n",
      "+------------------+\n",
      "|         Sum_PM2.5|\n",
      "+------------------+\n",
      "|3.79769311389925E8|\n",
      "+------------------+\n",
      "\n"
     ]
    }
   ],
   "source": [
    "val agg_op_3 = df_parquet.select(sum(col(\"NOx (ppb)\")).alias(\"Sum_PM2.5\"))\n",
    "agg_op_3.show()"
   ]
  },
  {
   "cell_type": "code",
   "execution_count": 72,
   "id": "f0bd67bf-bbb3-4ca6-905c-2ccf0ca81831",
   "metadata": {
    "execution": {
     "iopub.execute_input": "2024-06-25T08:12:54.925175Z",
     "iopub.status.busy": "2024-06-25T08:12:54.924960Z",
     "iopub.status.idle": "2024-06-25T08:13:02.192719Z",
     "shell.execute_reply": "2024-06-25T08:13:02.191987Z",
     "shell.execute_reply.started": "2024-06-25T08:12:54.925151Z"
    },
    "tags": []
   },
   "outputs": [
    {
     "data": {
      "application/vnd.jupyter.widget-view+json": {
       "model_id": "151c5e2f3a724b10a3034028f59972f9",
       "version_major": 2,
       "version_minor": 0
      },
      "text/plain": [
       "VBox()"
      ]
     },
     "metadata": {},
     "output_type": "display_data"
    },
    {
     "data": {
      "application/vnd.jupyter.widget-view+json": {
       "model_id": "",
       "version_major": 2,
       "version_minor": 0
      },
      "text/plain": [
       "FloatProgress(value=0.0, bar_style='info', description='Progress:', layout=Layout(height='25px', width='50%'),…"
      ]
     },
     "metadata": {},
     "output_type": "display_data"
    }
   ],
   "source": [
    "agg_op_3.write.format(\"jdbc\").option(\"url\", mysql_url).option(\"dbtable\", \"SumNOx\").option(\"user\", user).option(\"password\", pass).save()"
   ]
  },
  {
   "cell_type": "code",
   "execution_count": 74,
   "id": "f82b6eac-9cd5-4c90-ae85-fb124df3ddfa",
   "metadata": {
    "execution": {
     "iopub.execute_input": "2024-06-25T08:13:44.755391Z",
     "iopub.status.busy": "2024-06-25T08:13:44.755173Z",
     "iopub.status.idle": "2024-06-25T08:13:47.014921Z",
     "shell.execute_reply": "2024-06-25T08:13:47.014058Z",
     "shell.execute_reply.started": "2024-06-25T08:13:44.755368Z"
    },
    "tags": []
   },
   "outputs": [
    {
     "data": {
      "application/vnd.jupyter.widget-view+json": {
       "model_id": "09858929ae5d4638ab46dc44117cb000",
       "version_major": 2,
       "version_minor": 0
      },
      "text/plain": [
       "VBox()"
      ]
     },
     "metadata": {},
     "output_type": "display_data"
    },
    {
     "data": {
      "application/vnd.jupyter.widget-view+json": {
       "model_id": "",
       "version_major": 2,
       "version_minor": 0
      },
      "text/plain": [
       "FloatProgress(value=0.0, bar_style='info', description='Progress:', layout=Layout(height='25px', width='50%'),…"
      ]
     },
     "metadata": {},
     "output_type": "display_data"
    },
    {
     "name": "stdout",
     "output_type": "stream",
     "text": [
      "agg_op_4: org.apache.spark.sql.DataFrame = [Max_NO2: float]\n",
      "+-------+\n",
      "|Max_NO2|\n",
      "+-------+\n",
      "|  500.0|\n",
      "+-------+\n",
      "\n"
     ]
    }
   ],
   "source": [
    "val agg_op_4 = df_parquet.select(max(col(\"NO2 (ug/m3)\").cast(\"float\")).alias(\"Max_NO2\"))\n",
    "agg_op_4.show()"
   ]
  },
  {
   "cell_type": "code",
   "execution_count": 75,
   "id": "59e83af6-a47f-4599-9b7f-e29d0ad75ef9",
   "metadata": {
    "execution": {
     "iopub.execute_input": "2024-06-25T08:13:50.646625Z",
     "iopub.status.busy": "2024-06-25T08:13:50.646405Z",
     "iopub.status.idle": "2024-06-25T08:13:57.920741Z",
     "shell.execute_reply": "2024-06-25T08:13:57.920091Z",
     "shell.execute_reply.started": "2024-06-25T08:13:50.646601Z"
    }
   },
   "outputs": [
    {
     "data": {
      "application/vnd.jupyter.widget-view+json": {
       "model_id": "80b35fa6d5ca423ebacac365abe61b50",
       "version_major": 2,
       "version_minor": 0
      },
      "text/plain": [
       "VBox()"
      ]
     },
     "metadata": {},
     "output_type": "display_data"
    },
    {
     "data": {
      "application/vnd.jupyter.widget-view+json": {
       "model_id": "",
       "version_major": 2,
       "version_minor": 0
      },
      "text/plain": [
       "FloatProgress(value=0.0, bar_style='info', description='Progress:', layout=Layout(height='25px', width='50%'),…"
      ]
     },
     "metadata": {},
     "output_type": "display_data"
    }
   ],
   "source": [
    "agg_op_4.write.format(\"jdbc\").option(\"url\", mysql_url).option(\"dbtable\", \"MaxNO2Data\").option(\"user\", user).option(\"password\", pass).save()"
   ]
  },
  {
   "cell_type": "code",
   "execution_count": 77,
   "id": "6ac63c6b-5496-4b92-878e-df9d0801efcd",
   "metadata": {
    "execution": {
     "iopub.execute_input": "2024-06-25T08:17:37.951035Z",
     "iopub.status.busy": "2024-06-25T08:17:37.950814Z",
     "iopub.status.idle": "2024-06-25T08:17:47.223990Z",
     "shell.execute_reply": "2024-06-25T08:17:47.223217Z",
     "shell.execute_reply.started": "2024-06-25T08:17:37.951012Z"
    },
    "tags": []
   },
   "outputs": [
    {
     "data": {
      "application/vnd.jupyter.widget-view+json": {
       "model_id": "b0331846cbe44f9987f4ff60963690ff",
       "version_major": 2,
       "version_minor": 0
      },
      "text/plain": [
       "VBox()"
      ]
     },
     "metadata": {},
     "output_type": "display_data"
    },
    {
     "data": {
      "application/vnd.jupyter.widget-view+json": {
       "model_id": "",
       "version_major": 2,
       "version_minor": 0
      },
      "text/plain": [
       "FloatProgress(value=0.0, bar_style='info', description='Progress:', layout=Layout(height='25px', width='50%'),…"
      ]
     },
     "metadata": {},
     "output_type": "display_data"
    },
    {
     "name": "stdout",
     "output_type": "stream",
     "text": [
      "filter_op_4: org.apache.spark.sql.Dataset[org.apache.spark.sql.Row] = [From Date: string, To Date: string ... 23 more fields]\n",
      "+-------------------+-------------------+-------------+------------+----------+-----------+---------+-----------+-----------+----------+-------------+---------------+---------------+-------------------+-----------------+----------------+---------------+------+--------+--------+----------+---------+---------+--------------+-------------+\n",
      "|          From Date|            To Date|PM2.5 (ug/m3)|PM10 (ug/m3)|NO (ug/m3)|NO2 (ug/m3)|NOx (ppb)|NH3 (ug/m3)|SO2 (ug/m3)|CO (mg/m3)|Ozone (ug/m3)|Benzene (ug/m3)|Toluene (ug/m3)|Eth-Benzene (ug/m3)|MP-Xylene (ug/m3)|O Xylene (ug/m3)|Temp (degree C)|RH (%)|WS (m/s)|WD (deg)|SR (W/mt2)|BP (mmHg)|VWS (m/s)|Xylene (ug/m3)|AT (degree C)|\n",
      "+-------------------+-------------------+-------------+------------+----------+-----------+---------+-----------+-----------+----------+-------------+---------------+---------------+-------------------+-----------------+----------------+---------------+------+--------+--------+----------+---------+---------+--------------+-------------+\n",
      "|2023-02-10 19:00:00|2023-02-10 20:00:00|         22.0|       132.0|       1.3|      18.52|     10.9|      19.45|       7.67|      0.47|        53.25|           0.03|            0.3|               0.03|              0.1|            NULL|          52.25|  0.38|  200.75|    53.0|      NULL|    26.95|      0.0|          NULL|         NULL|\n",
      "|2023-02-11 02:00:00|2023-02-11 03:00:00|        27.25|       98.25|      1.45|      15.78|     9.57|      20.43|       2.92|      0.33|        32.75|           0.03|           0.38|               0.03|             0.15|            0.03|           78.5|   0.1|    76.0|    53.5|      NULL|    24.38|      0.0|          NULL|         NULL|\n",
      "|2023-02-11 03:00:00|2023-02-11 04:00:00|        18.25|        69.0|      4.67|      36.67|     23.3|       21.8|        2.7|      0.38|        11.58|           0.05|           0.45|               0.03|             0.12|            NULL|          82.25|  0.15|   120.0|    53.0|      NULL|     24.1|      0.0|          NULL|         NULL|\n",
      "|2023-02-11 04:00:00|2023-02-11 05:00:00|        24.25|       90.75|      7.57|       39.8|    27.32|      23.12|       2.22|      0.41|         7.27|           0.05|            0.5|                0.1|              0.2|            0.03|           84.0|  0.15|  111.25|   53.25|      NULL|    24.05|      0.0|          NULL|         NULL|\n",
      "|2023-02-12 03:00:00|2023-02-12 04:00:00|        26.25|       92.75|      1.38|       8.38|     5.58|      15.35|       7.05|      0.32|        82.55|           0.03|           1.77|                0.2|              0.4|             0.2|           37.0|   0.3|   53.25|    18.5|      NULL|    24.15|      0.0|          NULL|         NULL|\n",
      "|2023-02-12 19:00:00|2023-02-12 20:00:00|         30.5|      182.25|      1.42|      26.48|    15.22|      12.18|       3.55|      0.55|        76.62|           0.05|            2.0|                0.2|              0.5|             0.2|           18.0|  0.65|   20.25|    19.0|      NULL|     25.4|      0.0|          NULL|         NULL|\n",
      "|2023-02-12 23:00:00|2023-02-13 00:00:00|         12.0|       129.0|      1.32|       6.72|     4.62|       9.65|      18.73|      0.23|        94.35|           0.03|           1.67|                0.1|              0.4|            0.18|          22.25|   0.8|    12.5|   19.25|      NULL|    24.02|      0.0|          NULL|         NULL|\n",
      "|2023-02-13 07:00:00|2023-02-13 08:00:00|         NULL|      102.75|      1.95|      29.82|    17.48|      13.45|       8.28|      0.61|         55.4|           0.05|            1.2|                0.1|             0.28|             0.1|           39.0|  0.28|    62.0|    26.0|      NULL|    21.45|      0.0|          NULL|         NULL|\n",
      "|2023-02-13 15:00:00|2023-02-13 16:00:00|         20.5|      107.75|      3.08|      14.47|    10.22|       9.68|        3.0|      0.32|       145.57|           0.05|            1.2|                0.2|              0.3|            0.17|           6.25|  0.57|  226.25|   217.0|      NULL|    27.83|      0.0|          NULL|         NULL|\n",
      "|2023-02-14 17:00:00|2023-02-14 18:00:00|        17.75|       130.5|      1.65|      18.88|    11.38|      13.78|      11.55|      0.47|       142.28|           0.03|            2.1|               0.38|              0.7|             0.3|          10.25|  0.22|   148.5|   45.25|      NULL|     29.4|      0.0|          NULL|         NULL|\n",
      "|2023-02-14 18:00:00|2023-02-14 19:00:00|         24.0|       163.0|      2.38|      72.28|    40.35|       16.9|       10.3|      1.16|        60.85|           0.03|           2.38|                0.4|             0.72|             0.3|           23.0|   0.1|   36.25|    9.25|      NULL|    27.18|      0.0|          NULL|         NULL|\n",
      "|2023-02-18 18:00:00|2023-02-18 19:00:00|         28.0|       154.5|       5.8|      79.75|    47.15|      19.08|       3.68|      1.46|         42.3|           0.03|            2.5|               0.38|              0.9|            0.45|          23.25|   0.1|   58.25|    NULL|      NULL|    28.68|      0.0|          NULL|         NULL|\n",
      "|2023-02-20 13:00:00|2023-02-20 14:00:00|         14.5|       158.5|       1.4|       5.15|     3.88|      22.02|       9.93|      0.25|        91.05|           0.03|            1.7|                0.2|             0.45|             0.2|            7.0|  2.02|   226.5|   376.5|      NULL|    31.07|      0.0|          NULL|         NULL|\n",
      "|2023-02-21 20:00:00|2023-02-21 21:00:00|         39.0|      229.75|      1.07|      17.52|     10.2|      21.05|       8.15|      0.54|        73.55|           0.05|           1.75|               0.53|             0.65|             0.3|           45.0|   0.6|  221.25|    10.0|      NULL|    28.02|      0.0|          NULL|         NULL|\n",
      "|2023-02-22 06:00:00|2023-02-22 07:00:00|         45.0|      104.75|     16.93|      51.55|     41.2|       28.2|       3.55|      0.97|         5.17|           0.05|           1.52|                0.2|              0.4|             0.2|           84.0|  0.22|  110.75|   12.25|      NULL|     25.1|      0.0|          NULL|         NULL|\n",
      "|2023-02-22 18:00:00|2023-02-22 19:00:00|         23.5|       109.0|      1.82|      40.85|    23.23|      24.73|       6.28|       0.9|         71.4|           0.03|           2.02|               0.28|             0.57|             0.3|          29.25|  0.15|   80.67|    49.5|      NULL|    28.82|      0.0|          NULL|         NULL|\n",
      "|2023-02-23 15:00:00|2023-02-23 16:00:00|         19.5|        84.5|      2.23|      14.53|     9.55|      20.62|       7.95|      0.34|       128.18|           0.05|           1.62|               1.12|             1.17|            0.45|          24.25|   0.6|  168.75|   143.0|      NULL|    30.05|      0.0|          NULL|         NULL|\n",
      "|2023-02-25 15:00:00|2023-02-25 16:00:00|        13.25|       50.25|       1.4|       6.42|     4.55|       21.7|       3.98|      0.31|       121.98|           0.05|           1.68|                0.3|             0.58|             0.3|           15.5|   0.7|   256.5|  256.25|      NULL|     30.7|      0.0|          NULL|         NULL|\n",
      "|2023-02-26 04:00:00|2023-02-26 05:00:00|        17.25|       43.25|      1.17|       5.83|     4.03|      14.95|       5.75|      0.24|         78.0|           0.05|           1.48|                0.3|             0.62|            0.25|          41.75|   0.4|  197.75|     5.0|      NULL|    25.85|      0.0|          NULL|         NULL|\n",
      "|2023-02-26 06:00:00|2023-02-26 07:00:00|         33.5|       95.75|      2.33|       56.7|    32.05|      17.03|      12.18|       0.7|        18.15|           0.05|           1.42|                0.3|             0.53|             0.2|           55.0|  0.12|  159.75|     9.0|      NULL|     24.2|      0.0|          NULL|         NULL|\n",
      "+-------------------+-------------------+-------------+------------+----------+-----------+---------+-----------+-----------+----------+-------------+---------------+---------------+-------------------+-----------------+----------------+---------------+------+--------+--------+----------+---------+---------+--------------+-------------+\n",
      "only showing top 20 rows\n",
      "\n"
     ]
    }
   ],
   "source": [
    "val filter_op_4 = df_parquet.filter(col(\"Benzene (ug/m3)\") >= 0.03 && col(\"Benzene (ug/m3)\") <= 0.06)\n",
    "filter_op_4.show()"
   ]
  },
  {
   "cell_type": "code",
   "execution_count": 78,
   "id": "97b65d61-1b79-4969-bccd-28dc4229fcd8",
   "metadata": {
    "execution": {
     "iopub.execute_input": "2024-06-25T08:18:13.819713Z",
     "iopub.status.busy": "2024-06-25T08:18:13.819475Z",
     "iopub.status.idle": "2024-06-25T08:20:33.399473Z",
     "shell.execute_reply": "2024-06-25T08:20:33.398647Z",
     "shell.execute_reply.started": "2024-06-25T08:18:13.819687Z"
    }
   },
   "outputs": [
    {
     "data": {
      "application/vnd.jupyter.widget-view+json": {
       "model_id": "ea23ab3ef24848ff8039125c6d541579",
       "version_major": 2,
       "version_minor": 0
      },
      "text/plain": [
       "VBox()"
      ]
     },
     "metadata": {},
     "output_type": "display_data"
    },
    {
     "data": {
      "application/vnd.jupyter.widget-view+json": {
       "model_id": "",
       "version_major": 2,
       "version_minor": 0
      },
      "text/plain": [
       "FloatProgress(value=0.0, bar_style='info', description='Progress:', layout=Layout(height='25px', width='50%'),…"
      ]
     },
     "metadata": {},
     "output_type": "display_data"
    }
   ],
   "source": [
    "filter_op_4.write.format(\"jdbc\").option(\"url\", mysql_url).option(\"dbtable\", \"BenzeneFilteredData\").option(\"user\", user).option(\"password\", pass).save()"
   ]
  },
  {
   "cell_type": "code",
   "execution_count": 79,
   "id": "23acc1e0-fc18-4a13-b91e-2f97e06fa3b7",
   "metadata": {
    "execution": {
     "iopub.execute_input": "2024-06-25T08:22:56.046236Z",
     "iopub.status.busy": "2024-06-25T08:22:56.045999Z",
     "iopub.status.idle": "2024-06-25T08:23:11.339792Z",
     "shell.execute_reply": "2024-06-25T08:23:11.339123Z",
     "shell.execute_reply.started": "2024-06-25T08:22:56.046211Z"
    }
   },
   "outputs": [
    {
     "data": {
      "application/vnd.jupyter.widget-view+json": {
       "model_id": "2604a519d3964c37a93cea6556b674f7",
       "version_major": 2,
       "version_minor": 0
      },
      "text/plain": [
       "VBox()"
      ]
     },
     "metadata": {},
     "output_type": "display_data"
    },
    {
     "data": {
      "application/vnd.jupyter.widget-view+json": {
       "model_id": "",
       "version_major": 2,
       "version_minor": 0
      },
      "text/plain": [
       "FloatProgress(value=0.0, bar_style='info', description='Progress:', layout=Layout(height='25px', width='50%'),…"
      ]
     },
     "metadata": {},
     "output_type": "display_data"
    },
    {
     "name": "stdout",
     "output_type": "stream",
     "text": [
      "agg_op_5: org.apache.spark.sql.DataFrame = [Min_SO2: string, Max_RH%: string ... 1 more field]\n",
      "+-------+-------+--------------------+\n",
      "|Min_SO2|Max_RH%|           SumBPmmHG|\n",
      "+-------+-------+--------------------+\n",
      "|    0.0| 999.99|1.0660657454400004E9|\n",
      "+-------+-------+--------------------+\n",
      "\n"
     ]
    }
   ],
   "source": [
    "val agg_op_5 = df_parquet.select(min(col(\"SO2 (ug/m3)\")).alias(\"Min_SO2\"), max(col(\"RH (%)\")).alias(\"Max_RH%\"), sum(col(\"BP (mmHg)\")).alias(\"SumBPmmHG\"))\n",
    "agg_op_5.show()"
   ]
  },
  {
   "cell_type": "code",
   "execution_count": 80,
   "id": "83f06be1-8996-4467-ada7-a6a561c824ce",
   "metadata": {
    "execution": {
     "iopub.execute_input": "2024-06-25T08:23:39.849622Z",
     "iopub.status.busy": "2024-06-25T08:23:39.849384Z",
     "iopub.status.idle": "2024-06-25T08:23:51.128378Z",
     "shell.execute_reply": "2024-06-25T08:23:51.127723Z",
     "shell.execute_reply.started": "2024-06-25T08:23:39.849597Z"
    }
   },
   "outputs": [
    {
     "data": {
      "application/vnd.jupyter.widget-view+json": {
       "model_id": "181fbe4e27fb41b985e2154911c4fcd2",
       "version_major": 2,
       "version_minor": 0
      },
      "text/plain": [
       "VBox()"
      ]
     },
     "metadata": {},
     "output_type": "display_data"
    },
    {
     "data": {
      "application/vnd.jupyter.widget-view+json": {
       "model_id": "",
       "version_major": 2,
       "version_minor": 0
      },
      "text/plain": [
       "FloatProgress(value=0.0, bar_style='info', description='Progress:', layout=Layout(height='25px', width='50%'),…"
      ]
     },
     "metadata": {},
     "output_type": "display_data"
    }
   ],
   "source": [
    "agg_op_5.write.format(\"jdbc\").option(\"url\", mysql_url).option(\"dbtable\", \"AggOpsData\").option(\"user\", user).option(\"password\", pass).save()"
   ]
  },
  {
   "cell_type": "code",
   "execution_count": 81,
   "id": "5a73ee00-98d1-4225-8227-5d9551d98d7a",
   "metadata": {
    "execution": {
     "iopub.execute_input": "2024-06-25T08:25:05.533895Z",
     "iopub.status.busy": "2024-06-25T08:25:05.533656Z",
     "iopub.status.idle": "2024-06-25T08:25:14.798236Z",
     "shell.execute_reply": "2024-06-25T08:25:14.797535Z",
     "shell.execute_reply.started": "2024-06-25T08:25:05.533871Z"
    }
   },
   "outputs": [
    {
     "data": {
      "application/vnd.jupyter.widget-view+json": {
       "model_id": "531af475c7c84934a48766e3d6c55ee5",
       "version_major": 2,
       "version_minor": 0
      },
      "text/plain": [
       "VBox()"
      ]
     },
     "metadata": {},
     "output_type": "display_data"
    },
    {
     "data": {
      "application/vnd.jupyter.widget-view+json": {
       "model_id": "",
       "version_major": 2,
       "version_minor": 0
      },
      "text/plain": [
       "FloatProgress(value=0.0, bar_style='info', description='Progress:', layout=Layout(height='25px', width='50%'),…"
      ]
     },
     "metadata": {},
     "output_type": "display_data"
    },
    {
     "name": "stdout",
     "output_type": "stream",
     "text": [
      "agg_op_6: org.apache.spark.sql.DataFrame = [count(PM10 (ug/m3)): bigint]\n",
      "+-------------------+\n",
      "|count(PM10 (ug/m3))|\n",
      "+-------------------+\n",
      "|            9869039|\n",
      "+-------------------+\n",
      "\n"
     ]
    }
   ],
   "source": [
    "val agg_op_6 = df_parquet.select(count(col(\"PM10 (ug/m3)\")))\n",
    "agg_op_6.show()"
   ]
  },
  {
   "cell_type": "code",
   "execution_count": 82,
   "id": "dfd0ea5b-c0c2-4968-a740-a99b9978675b",
   "metadata": {
    "execution": {
     "iopub.execute_input": "2024-06-25T08:25:39.464295Z",
     "iopub.status.busy": "2024-06-25T08:25:39.463966Z",
     "iopub.status.idle": "2024-06-25T08:25:46.753014Z",
     "shell.execute_reply": "2024-06-25T08:25:46.752213Z",
     "shell.execute_reply.started": "2024-06-25T08:25:39.464253Z"
    }
   },
   "outputs": [
    {
     "data": {
      "application/vnd.jupyter.widget-view+json": {
       "model_id": "87feef4af7fa4f5291a596a45b588833",
       "version_major": 2,
       "version_minor": 0
      },
      "text/plain": [
       "VBox()"
      ]
     },
     "metadata": {},
     "output_type": "display_data"
    },
    {
     "data": {
      "application/vnd.jupyter.widget-view+json": {
       "model_id": "",
       "version_major": 2,
       "version_minor": 0
      },
      "text/plain": [
       "FloatProgress(value=0.0, bar_style='info', description='Progress:', layout=Layout(height='25px', width='50%'),…"
      ]
     },
     "metadata": {},
     "output_type": "display_data"
    }
   ],
   "source": [
    "agg_op_6.write.format(\"jdbc\").option(\"url\", mysql_url).option(\"dbtable\", \"TotalRecordsPM10\").option(\"user\", user).option(\"password\", pass).save()"
   ]
  },
  {
   "cell_type": "code",
   "execution_count": null,
   "id": "179b62ae-6f72-458b-90f7-4d1e4818f183",
   "metadata": {},
   "outputs": [],
   "source": []
  }
 ],
 "metadata": {
  "kernelspec": {
   "display_name": "Spark",
   "language": "scala",
   "name": "sparkkernel"
  },
  "language_info": {
   "codemirror_mode": "text/x-scala",
   "file_extension": ".sc",
   "mimetype": "text/x-scala",
   "name": "scala",
   "pygments_lexer": "scala"
  }
 },
 "nbformat": 4,
 "nbformat_minor": 5
}
